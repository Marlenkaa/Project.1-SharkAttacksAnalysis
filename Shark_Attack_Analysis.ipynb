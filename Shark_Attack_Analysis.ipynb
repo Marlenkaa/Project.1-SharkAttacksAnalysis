{
 "cells": [
  {
   "cell_type": "markdown",
   "metadata": {},
   "source": [
    "# Shark Attacks Analysis"
   ]
  },
  {
   "cell_type": "markdown",
   "metadata": {},
   "source": [
    "### TENDENCIAS EN ATAQUES DE TIBURON"
   ]
  },
  {
   "cell_type": "markdown",
   "metadata": {},
   "source": [
    "Partiendo del histórico de ataques de tiburón registrados desde el año 1800, se analiza la predominancia de estos ataques según época y año, así como los países que más víctimas registran. Para los dos países más representativos, se muestran las razones y el tipo de ataque según la parte del cuerpo afectada."
   ]
  },
  {
   "cell_type": "markdown",
   "metadata": {},
   "source": [
    "- Importamos librerias necesarias"
   ]
  },
  {
   "cell_type": "code",
   "execution_count": 1,
   "metadata": {},
   "outputs": [],
   "source": [
    "import pandas as pd\n",
    "import numpy as np\n",
    "import re\n",
    "import calendar\n",
    "import scr.fun as f\n",
    "import matplotlib.pyplot as plt"
   ]
  },
  {
   "cell_type": "markdown",
   "metadata": {},
   "source": [
    "- Creación del DataFrame. Es necesario utilizar la codificación como latin1 ya que el archivo contiene caracteres especiales."
   ]
  },
  {
   "cell_type": "code",
   "execution_count": 2,
   "metadata": {},
   "outputs": [],
   "source": [
    "df = pd.read_csv('INPUT/GSAF5.csv', encoding = 'latin1')"
   ]
  },
  {
   "cell_type": "markdown",
   "metadata": {},
   "source": [
    "- Configuración para poder ver todas las filas y columnas para una mejor exploración de los datos que dispongo y pensar cómo puedo limpiarlos."
   ]
  },
  {
   "cell_type": "code",
   "execution_count": 3,
   "metadata": {},
   "outputs": [],
   "source": [
    "pd.set_option('display.max_rows', None)\n",
    "pd.set_option('display.max_columns', None)"
   ]
  },
  {
   "cell_type": "markdown",
   "metadata": {},
   "source": [
    "### PASO 1: Inspección y descarte de datos."
   ]
  },
  {
   "cell_type": "code",
   "execution_count": 4,
   "metadata": {},
   "outputs": [
    {
     "data": {
      "text/plain": [
       "Index(['Case Number', 'Date', 'Year', 'Type', 'Country', 'Area', 'Location',\n",
       "       'Activity', 'Name', 'Sex ', 'Age', 'Injury', 'Fatal (Y/N)', 'Time',\n",
       "       'Species ', 'Investigator or Source', 'pdf', 'href formula', 'href',\n",
       "       'Case Number.1', 'Case Number.2', 'original order', 'Unnamed: 22',\n",
       "       'Unnamed: 23'],\n",
       "      dtype='object')"
      ]
     },
     "execution_count": 4,
     "metadata": {},
     "output_type": "execute_result"
    }
   ],
   "source": [
    "df.columns"
   ]
  },
  {
   "cell_type": "markdown",
   "metadata": {},
   "source": [
    "CONCLUSIONES:\n",
    "1. Observo algún error a corregir en el nombre de algunas las columnas al incluir espacios.\n",
    "2. A primera vista, parece que hay columnas con datos repetidos, como 'href formula' y 'href' o 'Case Number' y 'Case Number.1' y 'Case Number.2'.\n",
    "3. Existen columnas cuyo nombre no nos dice mucho, que probablemente no contengan datos relevantes, como 'Unnamed: 22' y 'Unnamed: 23'."
   ]
  },
  {
   "cell_type": "markdown",
   "metadata": {},
   "source": [
    "Por otro lado, compruebo el porcentaje de datos nulos que contiene el archivo por cada columna."
   ]
  },
  {
   "cell_type": "code",
   "execution_count": 5,
   "metadata": {},
   "outputs": [
    {
     "name": "stdout",
     "output_type": "stream",
     "text": [
      "\n",
      "Percentage of nulls per column:\n",
      "\n",
      "Case Number                 0.0%\n",
      "Date                        0.0%\n",
      "Year                        0.0%\n",
      "Type                        0.0%\n",
      "Country                    0.72%\n",
      "Area                       6.71%\n",
      "Location                   8.28%\n",
      "Activity                    8.8%\n",
      "Name                       3.34%\n",
      "Sex                        9.46%\n",
      "Age                       44.74%\n",
      "Injury                     0.45%\n",
      "Fatal (Y/N)                0.32%\n",
      "Time                      53.62%\n",
      "Species                   48.97%\n",
      "Investigator or Source     0.25%\n",
      "pdf                         0.0%\n",
      "href formula               0.02%\n",
      "href                       0.05%\n",
      "Case Number.1               0.0%\n",
      "Case Number.2               0.0%\n",
      "original order              0.0%\n",
      "Unnamed: 22               99.98%\n",
      "Unnamed: 23               99.97%\n",
      "dtype: object\n"
     ]
    }
   ],
   "source": [
    "percentage = (round(df.isnull().sum()/df.shape[0]*100,2))\n",
    "\n",
    "print('\\nPercentage of nulls per column:\\n\\n{}'.format(percentage.apply(lambda x: f'{x}%')))"
   ]
  },
  {
   "cell_type": "markdown",
   "metadata": {},
   "source": [
    "CONCLUSIONES:\n",
    "1. Confirmo que las columnas 'Unnamed' están prácticamente vacías, por lo que podemos eliminarlas.\n",
    "2. Las columnas 'Species', 'Time' y 'Age' tienen un alto porcentaje de celdas vacías, por tanto, dificulta su análisis y no las tendremos en cuenta."
   ]
  },
  {
   "cell_type": "markdown",
   "metadata": {},
   "source": [
    "En cuanto a las posibles columnas con valores duplicados, las comparo con sus parecidos para confirmar si existen valores diferentes o no."
   ]
  },
  {
   "cell_type": "markdown",
   "metadata": {},
   "source": [
    "- Comparación de columna 'Case Number' con 'Case Number.1' y 'Case Number.2':"
   ]
  },
  {
   "cell_type": "code",
   "execution_count": 6,
   "metadata": {},
   "outputs": [
    {
     "name": "stdout",
     "output_type": "stream",
     "text": [
      "There are 13 differences from 5992 total rows.\n",
      "\n",
      "FALSE:\n",
      "2016.09.15\n",
      "2016.09.16\n",
      "2016.09.15\n",
      "\n",
      "FALSE:\n",
      "2016.07.14.4\n",
      "2016.07.14.R\n",
      "2016.07.14.4\n",
      "\n",
      "FALSE:\n",
      "2016.01.24.b\n",
      "2015.01.24.b\n",
      "2016.01.24.b\n",
      "\n",
      "FALSE:\n",
      "2015.12.23\n",
      "2015.11.07\n",
      "2015.12.23\n",
      "\n",
      "FALSE:\n",
      "2015.10.28.a\n",
      "2015.10.28\n",
      "2015.10.28.a\n",
      "\n",
      "FALSE:\n",
      "2015.07-10\n",
      "2015.07.10\n",
      "2015.07.10\n",
      "\n",
      "FALSE:\n",
      "1967.07.05\n",
      "1967/07.05\n",
      "1967.07.05\n",
      "\n",
      "FALSE:\n",
      "1962,08.30.b\n",
      "1962.08.30.b\n",
      "1962,08.30.b\n",
      "\n",
      "FALSE:\n",
      "1961.09.02.R\n",
      "1961.09,06.R\n",
      "1961.09.02.R\n",
      "\n",
      "FALSE:\n",
      "1952.08.05\n",
      "1952.08.04\n",
      "1952.08.05\n",
      "\n",
      "FALSE:\n",
      "1934.01.08.R\n",
      "1934.02.08.R\n",
      "1934.02.08.R\n",
      "\n",
      "FALSE:\n",
      "1900.00.00.R\n",
      "1919.00.00.R\n",
      "1900.00.00.R\n",
      "\n",
      "FALSE:\n",
      "1911.07.31.R\n",
      "1911.07.31.T\n",
      "1911.07.31.R\n",
      "None\n"
     ]
    }
   ],
   "source": [
    "print(f.check_dupl_caseNumber(df,df['Case Number']))"
   ]
  },
  {
   "cell_type": "markdown",
   "metadata": {},
   "source": [
    "CONCLUSIÓN:\n",
    "    Como vemos, hay 13 valores diferentes de 5992 valores en total, lo que supone un 0.22%. Además, si comparamos los 3 valores que difieren, vemos que suelen coincidir dos y uno contiene algún error en número o letra. Por tanto, considero que son repetidos y se pueden eliminar."
   ]
  },
  {
   "cell_type": "markdown",
   "metadata": {},
   "source": [
    "- Comparación de columna 'href' con 'href formula':"
   ]
  },
  {
   "cell_type": "code",
   "execution_count": 7,
   "metadata": {},
   "outputs": [
    {
     "name": "stdout",
     "output_type": "stream",
     "text": [
      "There are 54 differences from 5992 total rows.\n",
      "\n",
      "FALSE:\n",
      "http://sharkattackfile.net/spreadsheets/pdf_directory/http://sharkattackfile.net/spreadsheets/pdf_directory/2016.07.29-Spain.pdf\n",
      "http://sharkattackfile.net/spreadsheets/pdf_directory/2016.07.29-Spain.pdf\n",
      "\n",
      "FALSE:\n",
      "http://sharkattackfile.net/spreadsheets/pdf_directory/2016.07.23-Cutbirth.pdf\n",
      "http://sharkattackfile.net/spreadsheets/pdf_directory/2016.07.23.a-Cutbirth.pdf\n",
      "\n",
      "FALSE:\n",
      "http://sharkattackfile.net/spreadsheets/pdf_directory/http://sharkattackfile.net/spreadsheets/pdf_directory/2016.05.21.a-Girl.pdf\n",
      "http://sharkattackfile.net/spreadsheets/pdf_directory/2016.05.21.a-Girl.pdf\n",
      "\n",
      "FALSE:\n",
      "http://sharkattackfile.net/spreadsheets/pdf_directory/http://sharkattackfile.net/spreadsheets/pdf_directory/2015.12.21.a-Brazil.pdf\n",
      "http://sharkattackfile.net/spreadsheets/pdf_directory/2015.12.21.a-Brazil.pdf\n",
      "\n",
      "FALSE:\n",
      "http://sharkattackfile.net/spreadsheets/pdf_directory/http://sharkattackfile.net/spreadsheets/pdf_directory/2015.11.15.a-Engelman.pdf\n",
      "http://sharkattackfile.net/spreadsheets/pdf_directory/2015.11.15.a-Engelman.pdf\n",
      "\n",
      "FALSE:\n",
      "http://sharkattackfile.net/spreadsheets/pdf_directory/2015.10.05-Slaughter.pdf\n",
      "http://sharkattackfile.net/spreadsheets/pdf_directory/2015.10.05.a-Slaughter.pdf\n",
      "\n",
      "FALSE:\n",
      "http://sharkattackfile.net/spreadsheets/pdf_directory/2015.06.27-Swanepoel.pdf\n",
      "http://sharkattackfile.net/spreadsheets/pdf_directory/2015.06.27.a-Swanepoel.pdf\n",
      "\n",
      "FALSE:\n",
      "nan\n",
      "http://sharkattackfile.net/spreadsheets/pdf_directory/Court Case pending\n",
      "\n",
      "FALSE:\n",
      "http://sharkattackfile.net/spreadsheets/pdf_directory/http://sharkattackfile.net/spreadsheets/pdf_directory/2015.01.24-Murray.pdf\n",
      "http://sharkattackfile.net/spreadsheets/pdf_directory/2015.01.24-Murray.pdf\n",
      "\n",
      "FALSE:\n",
      "http://sharkattackfile.net/spreadsheets/pdf_directory/http://sharkattackfile.net/spreadsheets/pdf_directory/2014.10.19-Tara.pdf\n",
      "http://sharkattackfile.net/spreadsheets/pdf_directory/2014.10.19-Tara.pdf\n",
      "\n",
      "FALSE:\n",
      "http://sharkattackfile.net/spreadsheets/pdf_directory/2014.10.18-Roberson\n",
      "http://sharkattackfile.net/spreadsheets/pdf_directory/2014.10.18-Roberson.pdf\n",
      "\n",
      "FALSE:\n",
      "http://sharkattackfile.net/spreadsheets/pdf_directory/2014.10.14-Bandy.pdf\n",
      "http://sharkattackfile.net/spreadsheets/pdf_directory/2014.10.17-Olsson, pdf\n",
      "\n",
      "FALSE:\n",
      "http://sharkattackfile.net/spreadsheets/pdf_directory/2014.10.02.b-Vandenberg.pdf\n",
      "http://sharkattackfile.net/spreadsheets/pdf_directory/2014.10.03.b-Kayaks2.pdf\n",
      "\n",
      "FALSE:\n",
      "http://sharkattackfile.net/spreadsheets/pdf_directory/2014.10.02.b-Vandenberg.pdf\n",
      "http://sharkattackfile.net/spreadsheets/pdf_directory/2014.10.03.a-Kayaks1.pdf\n",
      "\n",
      "FALSE:\n",
      "http://sharkattackfile.net/spreadsheets/pdf_directory/2014.08.12-Hayes.pdf\n",
      "http://sharkattackfile.net/spreadsheets/pdf_directory/2014.08.15-Hayes.pdf\n",
      "\n",
      "FALSE:\n",
      "http://sharkattackfile.net/spreadsheets/pdf_directory/http://sharkattackfile.net/spreadsheets/pdf_directory/2014.07.22-Rintz.pdf\n",
      "http://sharkattackfile.net/spreadsheets/pdf_directory/2014.07.22-Rintz.pdf\n",
      "\n",
      "FALSE:\n",
      "http://sharkattackfile.net/spreadsheets/pdf_directory/2014.06.09-Berry.pdf\n",
      "http://sharkattackfile.net/spreadsheets/pdf_directory/2014.06.09.a-Berry.pdf\n",
      "\n",
      "FALSE:\n",
      "http://sharkattackfile.net/spreadsheets/pdf_directory/http://sharkattackfile.net/spreadsheets/pdf_directory/2014.04.03-Armstrong.pdf\n",
      "http://sharkattackfile.net/spreadsheets/pdf_directory/2014.04.03-Armstrong.pdf\n",
      "\n",
      "FALSE:\n",
      "http://sharkattackfile.net/spreadsheets/pdf_directory/w014.01.25-Grant.pdf\n",
      "http://sharkattackfile.net/spreadsheets/pdf_directory/2014.02.07.b-Torres.pdf\n",
      "\n",
      "FALSE:\n",
      "http://sharkattackfile.net/spreadsheets/pdf_directory/w014.01.25-Grant.pdf\n",
      "http://sharkattackfile.net/spreadsheets/pdf_directory/2014.02.07-PorpoiseBay.pdf\n",
      "\n",
      "FALSE:\n",
      "http://sharkattackfile.net/spreadsheets/pdf_directory/w014.01.25-Grant.pdf\n",
      "http://sharkattackfile.net/spreadsheets/pdf_directory/2014.01.26-O'Connor.pf\n",
      "\n",
      "FALSE:\n",
      "http://sharkattackfile.net/spreadsheets/pdf_directory/w014.01.25-Grant.pdf\n",
      "http://sharkattackfile.net/spreadsheets/pdf_directory/2014.01.25-Grant\n",
      "\n",
      "FALSE:\n",
      "pdf_directory2014.01.04-Riano.pdf \n",
      "http://sharkattackfile.net/spreadsheets/pdf_directory/2014.01.04-Rianto.pdf\n",
      "\n",
      "FALSE:\n",
      "http://sharkattackfile.net/spreadsheets/pdf_directory/2013.12.25-NewCaledonia.pdf \n",
      "http://sharkattackfile.net/spreadsheets/pdf_directory/2013.12.25-NewCaledonia.pdf\n",
      "\n",
      "FALSE:\n",
      "http://sharkattackfile.net/spreadsheets/pdf_directory/2013.11.22-Gardiner\n",
      "http://sharkattackfile.net/spreadsheets/pdf_directory/2013.11.22-Gardiner.pdf\n",
      "\n",
      "FALSE:\n",
      "http://sharkattackfile.net/spreadsheets/pdf_directory/2013.11.12-Daly\n",
      "http://sharkattackfile.net/spreadsheets/pdf_directory/2013.11.12-Daly.pdf\n",
      "\n",
      "FALSE:\n",
      "http://sharkattackfile.net/spreadsheets/pdf_directory/2013.11.10-Bahamas\n",
      "http://sharkattackfile.net/spreadsheets/pdf_directory/2013.11.10-Bahamas.pdf\n",
      "\n",
      "FALSE:\n",
      "http://sharkattackfile.net/spreadsheets/pdf_directory/2013.11.07.b-Gates\n",
      "http://sharkattackfile.net/spreadsheets/pdf_directory/2013.11.07.b-Gates.pdf\n",
      "\n",
      "FALSE:\n",
      "http://sharkattackfile.net/spreadsheets/pdf_directory/2013.11.07.a-Melian\n",
      "http://sharkattackfile.net/spreadsheets/pdf_directory/2013.11.07.a-Melian.pdf\n",
      "\n",
      "FALSE:\n",
      "http://sharkattackfile.net/spreadsheets/pdf_directory/2013.10.31-ChristianBrandon\n",
      "http://sharkattackfile.net/spreadsheets/pdf_directory/2013.10.31-ChristianBrandon.pdf\n",
      "\n",
      "FALSE:\n",
      "http://sharkattackfile.net/spreadsheets/pdf_directory/2013.10.28-Simmons\n",
      "http://sharkattackfile.net/spreadsheets/pdf_directory/2013.10.28-Simmons.pdf\n",
      "\n",
      "FALSE:\n",
      "http://sharkattackfile.net/spreadsheets/pdf_directory/2013.10.26.b-Tanguy\n",
      "http://sharkattackfile.net/spreadsheets/pdf_directory/2013.10.26.b-Tanguy.pdf\n",
      "\n",
      "FALSE:\n",
      "http://sharkattackfile.net/spreadsheets/pdf_directory/2013.05.27.b-Ena.pdf\n",
      "pdf-directory/2013.05.27.b-Ena.pdf\n",
      "\n",
      "FALSE:\n",
      "http://sharkattackfile.net/spreadsheets/pdf_directory/2013.05.27-Kirkpatrick.pdf\n",
      "http://sharkattackfile.net/spreadsheets/pdf_directory/2013.05.27.a-Kirkpatrick.pdf\n",
      "\n",
      "FALSE:\n",
      "http://sharkattackfile.net/spreadsheets/pdf_directory/2010.02.01-Ward.pdf\n",
      "http://sharkattackfile.net/spreadsheets/pdf_directory/12.26\n",
      "\n",
      "FALSE:\n",
      "http://sharkattackfile.net/spreadsheets/pdf_directory/2006.08.22-IsaulCoba.pdf\n",
      "http://sharkattackfile.net/spreadsheets/pdf_directory/2006.08.22.b-Melo.pdf\n",
      "\n",
      "FALSE:\n",
      "http://sharkattackfile.net/spreadsheets/pdf_directory/2006.08.22.b-Brazil-incomplete.pdf\n",
      "http://sharkattackfile.net/spreadsheets/pdf_directory/2006.08.22.a-Coba.pdf\n",
      "\n",
      "FALSE:\n",
      "nan\n",
      "http://sharkattackfile.net/spreadsheets/pdf_directory/1993.04.00-Szolomiak.pdf\n",
      "\n",
      "FALSE:\n",
      "http://sharkattackfile.net/spreadsheets/pdf_directory/1989.00.00-Virginia-spearfisherman.pdf\n",
      "http://sharkattackfile.net/spreadsheets/pdf_directory/1989.00.00.a-Virginia-spearfisherman.pdf\n",
      "\n",
      "FALSE:\n",
      "http://sharkattackfile.net/spreadsheets/pdf_directory/1975.01.19-Barrowman.pdf\n",
      "nan\n",
      "\n",
      "FALSE:\n",
      "http://sharkattackfile.net/spreadsheets/pdf_directory/http://sharkattackfile.net/spreadsheets/pdf_directory/1963.00.00.a-Seychelles.pdf\n",
      "http://sharkattackfile.net/spreadsheets/pdf_directory/1963.00.00.a-Seychelles.pdf\n",
      "\n",
      "FALSE:\n",
      "http://sharkattackfile.net/spreadsheets/pdf_directory/http://sharkattackfile.net/spreadsheets/pdf_directory/1962.03.25.b-Luxton.pdf\n",
      "http://sharkattackfile.net/spreadsheets/pdf_directory/1962.03.25.b-Luxton.pdf\n",
      "\n",
      "FALSE:\n",
      "http://sharkattackfile.net/spreadsheets/pdf_directory/1958.08.31.a-NV-Ensenada.pdf\n",
      "http://sharkattackfile.net/spreadsheets/pdf_directory/1958.08.31-NV-Ensenada.pdf\n",
      "\n",
      "FALSE:\n",
      "http://sharkattackfile.net/spreadsheets/pdf_directory/1958.07.00.b - Waterman.pdf\n",
      "http://sharkattackfile.net/spreadsheets/pdf_directory/1958.07.00.b-Waterman.pdf\n",
      "\n",
      "FALSE:\n",
      "http://sharkattackfile.net/spreadsheets/pdf_directory/1945.07.30 - USS Indianapolis.pdf\n",
      "http://sharkattackfile.net/spreadsheets/pdf_directory/1945.07.30-USS Indianapolis.pdf\n",
      "\n",
      "FALSE:\n",
      "http://sharkattackfile.net/spreadsheets/pdf_directory/http://sharkattackfile.net/spreadsheets/pdf_directory/1936.08.04.R-PearlDiver.pdf\n",
      "http://sharkattackfile.net/spreadsheets/pdf_directory/1936.08.04.R-PearlDiver.pdf\n",
      "\n",
      "FALSE:\n",
      "http://sharkattackfile.net/spreadsheets/pdf_directory/1935.08.24-Atherfield\n",
      "http://sharkattackfile.net/spreadsheets/pdf_directory/1935.08.24-Atherfield.pdf \n",
      "\n",
      "FALSE:\n",
      "http://sharkattackfile.net/spreadsheets/pdf_directory/http://sharkattackfile.net/spreadsheets/pdf_directory/1924.02.08.R-Turkey.pdf\n",
      "http://sharkattackfile.net/spreadsheets/pdf_directory/1924.02.08.R-Turkey.pdf\n",
      "\n",
      "FALSE:\n",
      "http://sharkattackfile.net/spreadsheets/pdf_directory/http://sharkattackfile.net/spreadsheets/pdf_directory/1900.09.05-Hartman.pdf\n",
      "http://sharkattackfile.net/spreadsheets/pdf_directory/1900.09.05-Hartman.pdf\n",
      "\n",
      "FALSE:\n",
      "http://sharkattackfile.net/spreadsheets/pdf_directory/http://sharkattackfile.net/spreadsheets/pdf_directory/1890.06.26-Mayonni.pdf\n",
      "http://sharkattackfile.net/spreadsheets/pdf_directory/1890.06.26-Mayonni.pdf\n",
      "\n",
      "FALSE:\n",
      "nan\n",
      "http://sharkattackfile.net/spreadsheets/pdf_directory/1864.01.01-Kelsall.pdf\n",
      "\n",
      "FALSE:\n",
      "http://sharkattackfile.net/spreadsheets/pdf_directory/http://sharkattackfile.net/spreadsheets/pdf_directory/1863.00.00.R-Corfu\n",
      "http://sharkattackfile.net/spreadsheets/pdf_directory/1863.00.00.R-Corfu\n",
      "\n",
      "FALSE:\n",
      "http://sharkattackfile.net/spreadsheets/pdf_directory/1819.07.08-Cadiz.pdf\n",
      "http://sharkattackfile.net/spreadsheets/pdf_directory/1819.07.08.R-Cadiz.pdf\n",
      "\n",
      "FALSE:\n",
      "http://sharkattackfile.net/spreadsheets/pdf_directory/1637.00.00-Manrique.pdf\n",
      "http://sharkattackfile.net/spreadsheets/pdf_directory/1637.00.00.R-Manrique.pdf\n",
      "None\n"
     ]
    }
   ],
   "source": [
    "print(f.check_dupl_href(df,df['href']))"
   ]
  },
  {
   "cell_type": "markdown",
   "metadata": {},
   "source": [
    "CONCLUSIÓN:\n",
    "    Como vemos, hay 54 valores diferentes de 5992 valores en total, lo que supone un 0.9%. Además, si comparamos los 2 valores que difieren, vemos que hacen referencia a lo mismo pero con otra descripción por posibles errores en el texto. Si nos fijamos en el porcentaje de valores nulos, 'href formula' además contiene más vacíos, por lo que la podemos deshechar y quedarnos solamente con 'href'."
   ]
  },
  {
   "cell_type": "markdown",
   "metadata": {},
   "source": [
    "Por tanto, según las conclusiones, elimino las columnas vacías y duplicadas:"
   ]
  },
  {
   "cell_type": "code",
   "execution_count": 8,
   "metadata": {},
   "outputs": [
    {
     "data": {
      "text/plain": [
       "Index(['Case Number', 'Date', 'Year', 'Type', 'Country', 'Area', 'Location',\n",
       "       'Activity', 'Name', 'Sex ', 'Injury', 'Fatal (Y/N)',\n",
       "       'Investigator or Source', 'pdf', 'href formula', 'original order'],\n",
       "      dtype='object')"
      ]
     },
     "execution_count": 8,
     "metadata": {},
     "output_type": "execute_result"
    }
   ],
   "source": [
    "drop_cols = ['Unnamed: 22', 'Unnamed: 23', 'Case Number.1', 'Case Number.2', 'href']\n",
    "\n",
    "df = df.drop(drop_cols, axis=1)\n",
    "\n",
    "cols_analysis = ['Case Number', 'Date', 'Year', 'Type', 'Country', 'Area', 'Location', 'Activity', 'Name', \n",
    "                 'Sex ', 'Injury', 'Fatal (Y/N)', 'Investigator or Source', 'pdf', 'href formula',\n",
    "                 'original order']\n",
    "\n",
    "df1 = df.loc[:,cols_analysis]\n",
    "\n",
    "df1.columns"
   ]
  },
  {
   "cell_type": "markdown",
   "metadata": {},
   "source": [
    "En este momento, he ido mirando los datos que contiene cada columna para identificar dificultad de limpieza, utilidad y veracidad.\n",
    "\n",
    "- Case Number: contiene el número del caso registrado, que incluye la fecha y alguna letra. La utilidad que le voy a dar es para crear una nueva columna llamada 'Month' y poder sacar el mes en el que se dio el incidente.\n",
    "\n",
    "- Date: contiene la fecha del incidente pero no sigue un formato determinado. Difícil de limpiar y repite datos que tenemos en la columna 'Case Number'. Descarto del análisis.\n",
    "\n",
    "- Year: contiene el año del incidente. Bastante unificado y completo, mantengo para el análisis.\n",
    "\n",
    "- Type: especifica si el ataque fue provocado o no. Me parece un dato inconsistente ya que no se en qué se han basado para categorizar como provocación de un ataque. Si comparo con las actividades realizadas durante el ataque, el surf se considera tanto en provocado como no provocado, al igual que el nado o la pesca. Descarto del análisis.\n",
    "\n",
    "- Country: especifica el país donde se ha dado el ataque. Contiene pocos datos nulos y parece consistente. Mantengo para el análisis.\n",
    "\n",
    "- Area: especifica la ciudad/estado en el que ha surgido el ataque. Me basaré en el país del incidente, por tanto, descarto del análisis.\n",
    "\n",
    "- Location: especifica la playa donde se ha dado el ataque. Contiene muy pocos datos agrupados. Me basaré en el país del incidente, por tanto, descarto del análisis.\n",
    "\n",
    "- Activity: especifica la actividad que realizaba la víctima en el momento del ataque. Los datos están muy dispersos y hay que reagruparlos bajo una misma categoría. Mantengo para el análisis.\n",
    "\n",
    "- Name: se pretende identificar el nombre de la víctima pero la gran mayoría son datos sin especificar. No nos interesa para el análisis.\n",
    "\n",
    "- Sex: determina el sexo de la víctima. Casi un 10% de los datos son nulos, lo que considero demasiado para tener en cuenta en el análisis.\n",
    "\n",
    "- Injury: especifica en qué parte del cuerpo fue el ataque. Datos muy dispersos que hay que reagrupar bajo una misma categoría. Mantengo para el análisis.\n",
    "\n",
    "- Fatal: identifica si el ataque fue mortal o tuvo consecuencias graves para la víctima (o eso entiendo yo). Como la interpretación es ambigua y, además, la categoría fatal también aparece en la columna de 'Injury', lo descarto del análisis.\n",
    "\n",
    "- Investigator or Source: especifica la fuente. Está muy atomizado y no necesito esta información para el análisis, por tanto, lo descarto.\n",
    "\n",
    "- pdf y href formula: uno contiene los enlaces completos al pdf del caso, y el otro contiene solo el nombre del pdf. Al no necesitarlo para el análisis, lo descarto.\n",
    "\n",
    "- Original order: no se a qué hacen referencia los números aportados, por lo que, descarto del análisis."
   ]
  },
  {
   "cell_type": "code",
   "execution_count": 9,
   "metadata": {},
   "outputs": [
    {
     "data": {
      "text/plain": [
       "Index(['Case Number', 'Year', 'Country', 'Activity', 'Injury'], dtype='object')"
      ]
     },
     "execution_count": 9,
     "metadata": {},
     "output_type": "execute_result"
    }
   ],
   "source": [
    "cols_analysis = ['Case Number', 'Year', 'Country', 'Activity', 'Injury']\n",
    "\n",
    "attacks = df.loc[:,cols_analysis]\n",
    "\n",
    "attacks.columns"
   ]
  },
  {
   "cell_type": "markdown",
   "metadata": {},
   "source": [
    "### PASO 2: Limpieza de datos"
   ]
  },
  {
   "cell_type": "markdown",
   "metadata": {},
   "source": [
    "#### COLUMNA MONTH"
   ]
  },
  {
   "cell_type": "markdown",
   "metadata": {},
   "source": [
    "Creo una columna con el mes en el que ha surgido el ataque, en base a la columna 'Case Number'."
   ]
  },
  {
   "cell_type": "code",
   "execution_count": 10,
   "metadata": {},
   "outputs": [],
   "source": [
    "# Extraigo el mes de la columna 'Case Number':\n",
    "\n",
    "attacks['Month'] = attacks['Case Number'].str.extract('(\\.\\d{2}\\.)')\n",
    "\n",
    "# Elimino los dos puntos que se han extraido:\n",
    "\n",
    "attacks['Month'] = attacks['Month'].str.extract('(\\d{2})')\n",
    "\n",
    "# En algunos casos, el 'Case Number' no indica el mes por falta de información. Sustituyo los valores nulos por 0:\n",
    "\n",
    "attacks.Month = attacks.Month.fillna(0).astype('int')\n",
    "\n",
    "# Cambio los valores extraidos por el nombre del mes correspondiente:\n",
    "\n",
    "for x in range(1,13):\n",
    "    \n",
    "    attacks.loc[attacks['Month'] == x, 'Month'] = calendar.month_name[x]\n",
    "    attacks.loc[attacks['Month'] == 30, 'Month'] = 'August'\n",
    "\n",
    "# Los valores nulos sustituidos por 0, los identifico como 'Unknown'. Suponen un 6.4% sobre el total:\n",
    "\n",
    "attacks.loc[attacks['Month'] == 0, 'Month'] = 'Unknown'"
   ]
  },
  {
   "cell_type": "markdown",
   "metadata": {},
   "source": [
    "Compruebo el peso que tiene cada mes sobre el total de registros para comprobar que los nulos no suponen un porcentaje muy elevado. En este momento suponen un 8.7%, sin embargo, a lo largo del análisis este porcentaje bajará hasta el 6.4% debido a la omisión de algunos de los datos que considero a descartar más adelante."
   ]
  },
  {
   "cell_type": "code",
   "execution_count": 11,
   "metadata": {},
   "outputs": [
    {
     "name": "stdout",
     "output_type": "stream",
     "text": [
      "\n",
      "Percentage of nulls per month:\n",
      "\n",
      "July         10.56%\n",
      "August        9.68%\n",
      "September     8.74%\n",
      "Unknown       8.73%\n",
      "January       8.34%\n",
      "June          7.91%\n",
      "December      7.06%\n",
      "April         6.84%\n",
      "October       6.79%\n",
      "March         6.64%\n",
      "November      6.56%\n",
      "May           6.14%\n",
      "February      5.99%\n",
      "Name: Month, dtype: object\n"
     ]
    }
   ],
   "source": [
    "percentage = (round(attacks.Month.value_counts()/attacks.shape[0]*100,2))\n",
    "\n",
    "print('\\nPercentage of nulls per month:\\n\\n{}'.format(percentage.apply(lambda x: f'{x}%')))"
   ]
  },
  {
   "cell_type": "code",
   "execution_count": 12,
   "metadata": {},
   "outputs": [
    {
     "data": {
      "text/html": [
       "<div>\n",
       "<style scoped>\n",
       "    .dataframe tbody tr th:only-of-type {\n",
       "        vertical-align: middle;\n",
       "    }\n",
       "\n",
       "    .dataframe tbody tr th {\n",
       "        vertical-align: top;\n",
       "    }\n",
       "\n",
       "    .dataframe thead th {\n",
       "        text-align: right;\n",
       "    }\n",
       "</style>\n",
       "<table border=\"1\" class=\"dataframe\">\n",
       "  <thead>\n",
       "    <tr style=\"text-align: right;\">\n",
       "      <th></th>\n",
       "      <th>Case Number</th>\n",
       "      <th>Month</th>\n",
       "      <th>Year</th>\n",
       "      <th>Country</th>\n",
       "      <th>Activity</th>\n",
       "      <th>Injury</th>\n",
       "    </tr>\n",
       "  </thead>\n",
       "  <tbody>\n",
       "    <tr>\n",
       "      <th>0</th>\n",
       "      <td>2016.09.18.c</td>\n",
       "      <td>September</td>\n",
       "      <td>2016</td>\n",
       "      <td>USA</td>\n",
       "      <td>Surfing</td>\n",
       "      <td>Minor injury to thigh</td>\n",
       "    </tr>\n",
       "    <tr>\n",
       "      <th>1</th>\n",
       "      <td>2016.09.18.b</td>\n",
       "      <td>September</td>\n",
       "      <td>2016</td>\n",
       "      <td>USA</td>\n",
       "      <td>Surfing</td>\n",
       "      <td>Lacerations to hands</td>\n",
       "    </tr>\n",
       "    <tr>\n",
       "      <th>2</th>\n",
       "      <td>2016.09.18.a</td>\n",
       "      <td>September</td>\n",
       "      <td>2016</td>\n",
       "      <td>USA</td>\n",
       "      <td>Surfing</td>\n",
       "      <td>Lacerations to lower leg</td>\n",
       "    </tr>\n",
       "    <tr>\n",
       "      <th>3</th>\n",
       "      <td>2016.09.17</td>\n",
       "      <td>September</td>\n",
       "      <td>2016</td>\n",
       "      <td>AUSTRALIA</td>\n",
       "      <td>Surfing</td>\n",
       "      <td>Struck by fin on chest &amp; leg</td>\n",
       "    </tr>\n",
       "    <tr>\n",
       "      <th>4</th>\n",
       "      <td>2016.09.15</td>\n",
       "      <td>September</td>\n",
       "      <td>2016</td>\n",
       "      <td>AUSTRALIA</td>\n",
       "      <td>Surfing</td>\n",
       "      <td>No injury: Knocked off board by shark</td>\n",
       "    </tr>\n",
       "  </tbody>\n",
       "</table>\n",
       "</div>"
      ],
      "text/plain": [
       "    Case Number      Month  Year    Country Activity  \\\n",
       "0  2016.09.18.c  September  2016        USA  Surfing   \n",
       "1  2016.09.18.b  September  2016        USA  Surfing   \n",
       "2  2016.09.18.a  September  2016        USA  Surfing   \n",
       "3    2016.09.17  September  2016  AUSTRALIA  Surfing   \n",
       "4    2016.09.15  September  2016  AUSTRALIA  Surfing   \n",
       "\n",
       "                                  Injury  \n",
       "0                  Minor injury to thigh  \n",
       "1                   Lacerations to hands  \n",
       "2               Lacerations to lower leg  \n",
       "3           Struck by fin on chest & leg  \n",
       "4  No injury: Knocked off board by shark  "
      ]
     },
     "execution_count": 12,
     "metadata": {},
     "output_type": "execute_result"
    }
   ],
   "source": [
    "order = ['Case Number', 'Month', 'Year', 'Country', 'Activity', 'Injury']\n",
    "\n",
    "attacks = attacks.loc[:,order]\n",
    "\n",
    "attacks.head()"
   ]
  },
  {
   "cell_type": "markdown",
   "metadata": {},
   "source": [
    "#### COLUMNA YEAR"
   ]
  },
  {
   "cell_type": "markdown",
   "metadata": {},
   "source": [
    "Elimino de la tabla valores anteriores al año 1800, ya que debido a su antiguedad son poco fiables, ofrecían poca información en las columnas restantes, al igual que los años con valor 0. Con ello también eliminamos datos errónes que teníamos al final de la serie, como el año 500, 77 o 5."
   ]
  },
  {
   "cell_type": "code",
   "execution_count": 13,
   "metadata": {
    "scrolled": true
   },
   "outputs": [
    {
     "data": {
      "text/plain": [
       "array([2016, 2015, 2014, 2013, 2012, 2011, 2010, 2009, 2008, 2007, 2006,\n",
       "       2005, 2004, 2003, 2002, 2001, 2000, 1999, 1998, 1997, 1996, 1995,\n",
       "       1984, 1994, 1993, 1992, 1991, 1990, 1989, 1969, 1988, 1987, 1986,\n",
       "       1985, 1983, 1982, 1981, 1980, 1979, 1978, 1977, 1976, 1975, 1974,\n",
       "       1973, 1972, 1971, 1970, 1968, 1967, 1966, 1965, 1964, 1963, 1962,\n",
       "       1961, 1960, 1959, 1958, 1957, 1956, 1955, 1954, 1953, 1952, 1951,\n",
       "       1950, 1949, 1948, 1848, 1947, 1946, 1945, 1944, 1943, 1942, 1941,\n",
       "       1940, 1939, 1938, 1937, 1936, 1935, 1934, 1933, 1932, 1931, 1930,\n",
       "       1929, 1928, 1927, 1926, 1925, 1924, 1923, 1922, 1921, 1920, 1919,\n",
       "       1918, 1917, 1916, 1915, 1914, 1913, 1912, 1911, 1910, 1909, 1908,\n",
       "       1907, 1906, 1905, 1904, 1903, 1902, 1901, 1900, 1899, 1898, 1897,\n",
       "       1896, 1895, 1894, 1893, 1892, 1891, 1890, 1889, 1888, 1887, 1886,\n",
       "       1885, 1884, 1883, 1882, 1881, 1880, 1879, 1878, 1877, 1876, 1875,\n",
       "       1874, 1873, 1872, 1871, 1870, 1869, 1868, 1867, 1866, 1865, 1864,\n",
       "       1863, 1862, 1861, 1860, 1859, 1858, 1856, 1855, 1854, 1853, 1852,\n",
       "       1851, 1850, 1849, 1847, 1846, 1845, 1844, 1842, 1841, 1840, 1839,\n",
       "       1837, 1836, 1835, 1834, 1832, 1831, 1830, 1829, 1828, 1827, 1826,\n",
       "       1825, 1822, 1819, 1818, 1817, 1816, 1812, 1811, 1807, 1805, 1804,\n",
       "       1803, 1800, 1791, 1788, 1787, 1785, 1779, 1776, 1771, 1767, 1764,\n",
       "       1758, 1749, 1755, 1748, 1742, 1738, 1733, 1721, 1703, 1700, 1642,\n",
       "       1638, 1637, 1617, 1595, 1580, 1555, 1554, 1543,  500,   77,    5,\n",
       "          0])"
      ]
     },
     "metadata": {},
     "output_type": "display_data"
    }
   ],
   "source": [
    "# Compruebo los valores únicos de la columna:\n",
    "\n",
    "display(attacks[\"Year\"].unique())\n",
    "\n",
    "# Decido no tener en cuenta los datos anteriores al año 1800 por prudencia.\n",
    "\n",
    "attacks = attacks[attacks[\"Year\"] >= 1800]"
   ]
  },
  {
   "cell_type": "markdown",
   "metadata": {},
   "source": [
    "#### COLUMNA COUNTRY"
   ]
  },
  {
   "cell_type": "markdown",
   "metadata": {},
   "source": [
    "Adapto los nombres a un formato correcto y, tanto los nulos como los que no aparecen más de 10 veces en el DataFrame, los categorizo como 'Otros' para reducir la atomización de datos."
   ]
  },
  {
   "cell_type": "code",
   "execution_count": 14,
   "metadata": {},
   "outputs": [],
   "source": [
    "# Hay 35 celdas vacías que categorizo como 'Otros':\n",
    "\n",
    "attacks.Country = attacks.Country.fillna('OTHER')\n",
    "\n",
    "# Adapto los nombres a mayúsculas y quito los espacios que contengan:\n",
    "\n",
    "attacks['Country'] = attacks['Country'].str.upper()\n",
    "\n",
    "attacks['Country'] = f.first_space(attacks['Country'].str)\n",
    "\n",
    "# Mantengo los nombres de los países que se repiten más de 10 veces:\n",
    "\n",
    "attacks_country = attacks['Country'].value_counts()\n",
    "attacks_country = attacks_country[attacks_country >= 10]\n",
    "\n",
    "# El resto, los agrupo como 'Otros', categoría que supone un 7,6% del total:\n",
    "\n",
    "ind = attacks_country.index.tolist()\n",
    "\n",
    "countries = []\n",
    "\n",
    "for i in range(len(attacks.index)):\n",
    "    if attacks.loc[i,'Country'] in ind:\n",
    "        countries.append(attacks.loc[i,'Country'])\n",
    "    else:\n",
    "        countries.append('OTHER')\n",
    "        \n",
    "attacks[\"Country\"] = countries"
   ]
  },
  {
   "cell_type": "code",
   "execution_count": 15,
   "metadata": {},
   "outputs": [
    {
     "name": "stdout",
     "output_type": "stream",
     "text": [
      "\n",
      "Percentage of nulls per country:\n",
      "\n",
      "USA                     35.93%\n",
      "AUSTRALIA                21.6%\n",
      "SOUTH AFRICA             9.55%\n",
      "OTHER                    7.66%\n",
      "PAPUA NEW GUINEA         2.21%\n",
      "NEW ZEALAND              2.13%\n",
      "BRAZIL                   1.75%\n",
      "BAHAMAS                  1.63%\n",
      "MEXICO                   1.37%\n",
      "ITALY                    1.15%\n",
      "FIJI                     1.06%\n",
      "PHILIPPINES              1.03%\n",
      "REUNION                  0.94%\n",
      "NEW CALEDONIA            0.87%\n",
      "MOZAMBIQUE               0.72%\n",
      "CUBA                     0.69%\n",
      "SPAIN                    0.65%\n",
      "EGYPT                    0.62%\n",
      "CROATIA                  0.58%\n",
      "INDIA                    0.55%\n",
      "JAPAN                    0.55%\n",
      "PANAMA                    0.5%\n",
      "SOLOMON ISLANDS          0.46%\n",
      "IRAN                     0.43%\n",
      "HONG KONG                0.41%\n",
      "JAMAICA                  0.39%\n",
      "FRENCH POLYNESIA         0.36%\n",
      "INDONESIA                0.33%\n",
      "GREECE                   0.33%\n",
      "ENGLAND                  0.31%\n",
      "TONGA                    0.31%\n",
      "ATLANTIC OCEAN           0.27%\n",
      "PACIFIC OCEAN            0.27%\n",
      "BERMUDA                  0.24%\n",
      "SRI LANKA                0.21%\n",
      "COSTA RICA               0.21%\n",
      "TURKEY                   0.21%\n",
      "SOUTH ATLANTIC OCEAN     0.21%\n",
      "VANUATU                  0.21%\n",
      "MARSHALL ISLANDS         0.21%\n",
      "VIETNAM                  0.21%\n",
      "SENEGAL                  0.19%\n",
      "CANADA                   0.17%\n",
      "NEW GUINEA               0.17%\n",
      "UNITED KINGDOM           0.17%\n",
      "Name: Country, dtype: object\n"
     ]
    }
   ],
   "source": [
    "percentage = (round(attacks.Country.value_counts()/attacks.shape[0]*100,2))\n",
    "\n",
    "print('\\nPercentage of nulls per country:\\n\\n{}'.format(percentage.apply(lambda x: f'{x}%')))"
   ]
  },
  {
   "cell_type": "markdown",
   "metadata": {},
   "source": [
    "#### COLUMNA ACTIVITY"
   ]
  },
  {
   "cell_type": "markdown",
   "metadata": {},
   "source": [
    "Esta columna, al ser descriptiva, contiene muchos datos que describen una misma actividad de diferentes maneras, por tanto, es necesario unificar bajo una misma categoría. Llegado a un punto donde las datos se dispersan mucho, los englobo bajo un mismo concepto de 'Otros', que suponen solo el 6.6% total de datos saneados."
   ]
  },
  {
   "cell_type": "code",
   "execution_count": 16,
   "metadata": {},
   "outputs": [],
   "source": [
    "# Hay 497 celdas vacías que categorizo como 'Desconocido':\n",
    "\n",
    "attacks.Activity = attacks.Activity.fillna('Unknown')\n",
    "\n",
    "# Agrupo actividades afines bajo un mismo nombre:\n",
    "\n",
    "activity_changes = {\n",
    "    'Surfing':['surf'],\n",
    "    'Swimming':['swim','bath','float','water','splash'],\n",
    "    'Fishing':['fish','crab','clam','kill','hunt','catch''shoot'],\n",
    "    'Diving':['div','snork'],\n",
    "    'Shore':['wad','stand','walk','tread','wash','sit','play'],\n",
    "    'Water sports':['kayak','board','row','canoe','sail','boat','paddl','fell']\n",
    "}\n",
    "\n",
    "for key, value in activity_changes.items():\n",
    "    for elem in value:\n",
    "        attacks.loc[attacks['Activity'].str.contains(elem, case=False), 'Activity'] = key\n",
    "        \n",
    "# Mantengo las actividades que se repitan más de 10 veces:\n",
    "\n",
    "attacks_activities = attacks['Activity'].value_counts()\n",
    "attacks_activities = attacks_activities[attacks_activities >= 10]\n",
    "\n",
    "# El resto, los agrupo como Otros, categoría que supone un 6.6% del total:\n",
    "\n",
    "ind = attacks_activities.index.tolist()\n",
    "\n",
    "activities = []\n",
    "\n",
    "for i in range(len(attacks.index)):\n",
    "    if attacks.loc[i,'Activity'] in ind:\n",
    "        activities.append(attacks.loc[i,'Activity'])\n",
    "    else:\n",
    "        activities.append('OTHER')\n",
    "\n",
    "attacks[\"Activity\"] = activities"
   ]
  },
  {
   "cell_type": "code",
   "execution_count": 17,
   "metadata": {},
   "outputs": [
    {
     "name": "stdout",
     "output_type": "stream",
     "text": [
      "\n",
      "Percentage of nulls per activity:\n",
      "\n",
      "Swimming        24.22%\n",
      "Surfing         20.26%\n",
      "Fishing         19.05%\n",
      "Diving           9.07%\n",
      "Unknown          8.57%\n",
      "OTHER            6.69%\n",
      "Water sports     6.62%\n",
      "Shore            5.52%\n",
      "Name: Activity, dtype: object\n"
     ]
    }
   ],
   "source": [
    "percentage = (round(attacks.Activity.value_counts()/attacks.shape[0]*100,2))\n",
    "\n",
    "print('\\nPercentage of nulls per activity:\\n\\n{}'.format(percentage.apply(lambda x: f'{x}%')))"
   ]
  },
  {
   "cell_type": "markdown",
   "metadata": {},
   "source": [
    "#### COLUMNA INJURY"
   ]
  },
  {
   "cell_type": "markdown",
   "metadata": {},
   "source": [
    "Mismo caso que el anterior, con la diferencia de que agrupo según la parte del cuerpo que haya sido afectada por el ataque del tiburón. Llegado a un punto donde las datos se dispersan mucho, los englobo bajo un mismo concepto de 'Otros', que suponen solo el 6.5% del total de datos saneados."
   ]
  },
  {
   "cell_type": "code",
   "execution_count": 19,
   "metadata": {},
   "outputs": [],
   "source": [
    "# Hay 20 celdas vacías que categorizo como 'Desconocido':\n",
    "\n",
    "attacks.Injury = attacks.Injury.fillna('Unknown')\n",
    "\n",
    "# Agrupo los daños que ha sufrido la víctima según la parte del cuerpo afectada:\n",
    "\n",
    "injury_changes = {\n",
    "    'Leg':['foot','leg','thigh','calf','ankle','heel','toe','shin','feet','knee'],\n",
    "    'Arm':['hand','arm','finger','shoul','wrist','elbo'],\n",
    "    'Trunk':['torso','hip','chest','butt','back','abdom'],\n",
    "    'No injury':['no injury','minor','fin','lacer'],\n",
    "    'FATAL':['fatal','drow'],\n",
    "    'Unknown':['survi','detail']\n",
    "}\n",
    "\n",
    "for key, value in injury_changes.items():\n",
    "    for elem in value:\n",
    "        attacks.loc[attacks['Injury'].str.contains(elem, case=False), 'Injury'] = key\n",
    "        \n",
    "# Mantengo los ataques que se repiten más de 10 veces:\n",
    "\n",
    "attacks_injuries = attacks['Injury'].value_counts()\n",
    "\n",
    "attacks_injuries = attacks_injuries[attacks_injuries >= 10]\n",
    "\n",
    "# El resto, los agrupo como Otros, suponen un 6.5% del total:\n",
    "\n",
    "ind = attacks_injuries.index.tolist()\n",
    "\n",
    "injuries = []\n",
    "\n",
    "for i in range(len(attacks.index)):\n",
    "    if attacks.loc[i,'Injury'] in ind:\n",
    "        injuries.append(attacks.loc[i,'Injury'])\n",
    "    else:\n",
    "        injuries.append('OTHER')\n",
    "\n",
    "attacks[\"Injury\"] = injuries"
   ]
  },
  {
   "cell_type": "code",
   "execution_count": 21,
   "metadata": {},
   "outputs": [
    {
     "name": "stdout",
     "output_type": "stream",
     "text": [
      "\n",
      "Percentage of nulls per injury:\n",
      "\n",
      "Leg          41.63%\n",
      "FATAL        16.96%\n",
      "Arm          14.73%\n",
      "No injury    14.02%\n",
      "OTHER         6.51%\n",
      "Unknown        3.5%\n",
      "Trunk         2.66%\n",
      "Name: Injury, dtype: object\n"
     ]
    }
   ],
   "source": [
    "percentage = (round(attacks.Injury.value_counts()/attacks.shape[0]*100,2))\n",
    "\n",
    "print('\\nPercentage of nulls per injury:\\n\\n{}'.format(percentage.apply(lambda x: f'{x}%')))"
   ]
  },
  {
   "cell_type": "markdown",
   "metadata": {},
   "source": [
    "- Guardamos el csv limpio y listo para analizar"
   ]
  },
  {
   "cell_type": "code",
   "execution_count": 22,
   "metadata": {},
   "outputs": [],
   "source": [
    "attacks.to_csv('OUTPUT/shark_attacks_cleaned_data.csv')"
   ]
  },
  {
   "cell_type": "markdown",
   "metadata": {},
   "source": [
    "### PASO 3: Análisis"
   ]
  },
  {
   "cell_type": "markdown",
   "metadata": {},
   "source": [
    "##### NUMERO DE ATAQUES POR RANGO DE AÑO: Observamos una clara tendencia positiva, registrando el mayor número de ataques entre el año 2001 y 2016. Probablemente esto se deba a que con el paso de los años se haya incrementado la labor de documentación."
   ]
  },
  {
   "cell_type": "code",
   "execution_count": 40,
   "metadata": {},
   "outputs": [
    {
     "data": {
      "image/png": "[encoded data removed]",
      "text/plain": [
       "<Figure size 432x288 with 1 Axes>"
      ]
     },
     "metadata": {
      "needs_background": "light"
     },
     "output_type": "display_data"
    }
   ],
   "source": [
    "cutoffs = [i for i in range(1800,2021,20)]\n",
    "\n",
    "# Es necesario corregir la list comprehension para que comience por 1800 y finalice en el año 2016\n",
    "year_labels = [f'{i+1}-{i+20}' for i in range(1800,2016,20)]\n",
    "year_labels[0] = '1800-1820'\n",
    "year_labels[-1] = '2001-2016'\n",
    "\n",
    "attacks['Year_Range'] = pd.cut(attacks['Year'], cutoffs, labels=year_labels)\n",
    "\n",
    "attacks.groupby('Year_Range').agg({'Year':'count'}).plot.bar()\n",
    "\n",
    "plt.title('Historical Shark Attacks by Year');"
   ]
  },
  {
   "cell_type": "markdown",
   "metadata": {},
   "source": [
    "##### TENDENCIA DE ATAQUES SEGUN EPOCA DEL AÑO: Destacan los meses de julio, agosto y septiembre, sin embargo, no hay una clara evidencia de ser los meses más representativos, ya que la tendencia es bastante lineal. El motivo resulta de los distintos momentos del año en el que se sitúan las estaciones según la posición en el Ecuador."
   ]
  },
  {
   "cell_type": "code",
   "execution_count": 24,
   "metadata": {},
   "outputs": [
    {
     "data": {
      "image/png": "[encoded data removed]",
      "text/plain": [
       "<Figure size 432x288 with 1 Axes>"
      ]
     },
     "metadata": {
      "needs_background": "light"
     },
     "output_type": "display_data"
    }
   ],
   "source": [
    "months = ['January', 'February', 'March', 'April', 'May', 'June', 'July', 'August', 'September', 'October', 'November', 'December']\n",
    "\n",
    "attacks['Month'] = pd.Categorical(attacks['Month'], categories=months, ordered=True)\n",
    "\n",
    "attacks.groupby('Month').agg({'Year':'count'}).plot.bar()\n",
    "\n",
    "plt.title('Historical Shark Attacks by Month');"
   ]
  },
  {
   "cell_type": "markdown",
   "metadata": {},
   "source": [
    "##### Comprobamos que en USA los casos de ataques predominan en los meses de julio, agosto y septiembre, siendo la época de verano en USA."
   ]
  },
  {
   "cell_type": "code",
   "execution_count": 30,
   "metadata": {},
   "outputs": [
    {
     "data": {
      "image/png": "[encoded data removed]",
      "text/plain": [
       "<Figure size 432x288 with 1 Axes>"
      ]
     },
     "metadata": {
      "needs_background": "light"
     },
     "output_type": "display_data"
    }
   ],
   "source": [
    "# Filtramos dataset por casos dados solo en USA\n",
    "\n",
    "filt = attacks['Country'] == 'USA'\n",
    "usa = attacks[filt]\n",
    "\n",
    "# Comprobamos si la tendencia de ataques según época del año varía\n",
    "\n",
    "usa.groupby('Month').agg({'Year':'count'}).plot.bar()\n",
    "plt.title('Historical Shark Attacks by Month in USA');"
   ]
  },
  {
   "cell_type": "markdown",
   "metadata": {},
   "source": [
    "##### Comprobamos que en Australia los casos de ataques predominan en los meses de diciembre y enero, siendo la época de verano en Australia."
   ]
  },
  {
   "cell_type": "code",
   "execution_count": 36,
   "metadata": {},
   "outputs": [
    {
     "data": {
      "image/png": "[encoded data removed]",
      "text/plain": [
       "<Figure size 432x288 with 1 Axes>"
      ]
     },
     "metadata": {
      "needs_background": "light"
     },
     "output_type": "display_data"
    }
   ],
   "source": [
    "# Filtramos dataset por casos dados solo en USA\n",
    "\n",
    "filt = attacks['Country'] == 'AUSTRALIA'\n",
    "usa = attacks[filt]\n",
    "\n",
    "# Comprobamos si la tendencia de ataques según época del año varía\n",
    "\n",
    "usa.groupby('Month').agg({'Year':'count'}).plot.bar()\n",
    "plt.title('Historical Shark Attacks by Month in USA');"
   ]
  },
  {
   "cell_type": "markdown",
   "metadata": {},
   "source": [
    "##### TENDENCIA DE ATAQUES SEGUN PAIS: Podemos observar que la gran mayoría de los ataques de tiburón surgen en USA y Australia, donde hay mayor predominio del surf y mayor es la población."
   ]
  },
  {
   "cell_type": "code",
   "execution_count": 25,
   "metadata": {},
   "outputs": [
    {
     "data": {
      "image/png": "[encoded data removed]",
      "text/plain": [
       "<Figure size 720x360 with 1 Axes>"
      ]
     },
     "metadata": {
      "needs_background": "light"
     },
     "output_type": "display_data"
    }
   ],
   "source": [
    "attacks.groupby('Country').Year.count().sort_values(ascending=False).iloc[:10].plot.bar(figsize=(10,5))\n",
    "\n",
    "plt.title('Historical Shark Attacks by Country');"
   ]
  },
  {
   "cell_type": "markdown",
   "metadata": {},
   "source": [
    "##### RAZONES DE ATAQUE EN USA: La probabilidad de sufrir un ataque de tiburón en USA es mayor para los surfistas y los bañistas, seguido por los pescadores."
   ]
  },
  {
   "cell_type": "code",
   "execution_count": 36,
   "metadata": {},
   "outputs": [
    {
     "data": {
      "image/png": "[encoded data removed]",
      "text/plain": [
       "<Figure size 360x360 with 1 Axes>"
      ]
     },
     "metadata": {},
     "output_type": "display_data"
    }
   ],
   "source": [
    "def pie_country_act(country):\n",
    "    filt = attacks[attacks['Country'] == country]\n",
    "    activ = filt.groupby('Activity').Activity.count().sort_values(ascending=False)\n",
    "    plt.title(f'Reasons of Shark Attacks in {country}')\n",
    "    return activ.plot.pie(figsize=(5,5), autopct='%1.1f%%')\n",
    "\n",
    "pie_country_act('USA');"
   ]
  },
  {
   "cell_type": "markdown",
   "metadata": {},
   "source": [
    "##### TENDENCIA LESIONES SEGUN ATAQUES EN USA: Las principales lesiones por ataque de tiburón en USA se dan en las extremidades, principalmente las piernas. Al ser los surfistas y bañistas los más afectados, éstas son las zonas más expuestas."
   ]
  },
  {
   "cell_type": "code",
   "execution_count": 37,
   "metadata": {},
   "outputs": [
    {
     "data": {
      "image/png": "[encoded data removed]",
      "text/plain": [
       "<Figure size 360x360 with 1 Axes>"
      ]
     },
     "metadata": {},
     "output_type": "display_data"
    }
   ],
   "source": [
    "def pie_country_inj(country):\n",
    "    filt = attacks[attacks['Country'] == country]\n",
    "    activ = filt.groupby('Injury').Injury.count().sort_values(ascending=False)\n",
    "    plt.title(f'Most Common Injuries of Shark Attacks in {country}')\n",
    "    return activ.plot.pie(figsize=(5,5), autopct='%1.1f%%')\n",
    "\n",
    "pie_country_inj('USA');"
   ]
  },
  {
   "cell_type": "markdown",
   "metadata": {},
   "source": [
    "##### RAZONES DE ATAQUE EN AUTRALIA: La probabilidad de sufrir un ataque de tiburón en Australia es mayor para los bañistas y los pescadores, seguido por los surfistas."
   ]
  },
  {
   "cell_type": "code",
   "execution_count": 38,
   "metadata": {},
   "outputs": [
    {
     "data": {
      "image/png": "[encoded data removed]",
      "text/plain": [
       "<Figure size 360x360 with 1 Axes>"
      ]
     },
     "metadata": {},
     "output_type": "display_data"
    }
   ],
   "source": [
    "def pie_country_act(country):\n",
    "    filt = attacks[attacks['Country'] == country]\n",
    "    activ = filt.groupby('Activity').Activity.count().sort_values(ascending=False)\n",
    "    plt.title(f'Reasons of Shark Attacks in {country}')\n",
    "    return activ.plot.pie(figsize=(5,5), autopct='%1.1f%%')\n",
    "\n",
    "pie_country_act('AUSTRALIA');"
   ]
  },
  {
   "cell_type": "markdown",
   "metadata": {},
   "source": [
    "##### TENDENCIA LESIONES SEGUN ATAQUES EN AUSTRALIA: Las principales lesiones por ataque de tiburón en Australia se dan en las piernas. Sin embargo, también existe un porcentaje considerable de ataques que no provocan ninguna lesión o, por el contrario, acaban en muerte."
   ]
  },
  {
   "cell_type": "code",
   "execution_count": 39,
   "metadata": {},
   "outputs": [
    {
     "data": {
      "image/png": "[encoded data removed]",
      "text/plain": [
       "<Figure size 360x360 with 1 Axes>"
      ]
     },
     "metadata": {},
     "output_type": "display_data"
    }
   ],
   "source": [
    "def pie_country_inj(country):\n",
    "    filt = attacks[attacks['Country'] == country]\n",
    "    activ = filt.groupby('Injury').Injury.count().sort_values(ascending=False)\n",
    "    plt.title(f'Most Common Injury of Shark Attacks in {country}')\n",
    "    return activ.plot.pie(figsize=(5,5), autopct='%1.1f%%')\n",
    "\n",
    "pie_country_inj('AUSTRALIA');"
   ]
  }
 ],
 "metadata": {
  "kernelspec": {
   "display_name": "Python 3",
   "language": "python",
   "name": "python3"
  },
  "language_info": {
   "codemirror_mode": {
    "name": "ipython",
    "version": 3
   },
   "file_extension": ".py",
   "mimetype": "text/x-python",
   "name": "python",
   "nbconvert_exporter": "python",
   "pygments_lexer": "ipython3",
   "version": "3.6.9"
  }
 },
 "nbformat": 4,
 "nbformat_minor": 2
}
