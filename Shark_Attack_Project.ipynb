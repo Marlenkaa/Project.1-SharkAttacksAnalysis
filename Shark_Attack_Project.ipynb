{
 "cells": [
  {
   "cell_type": "markdown",
   "metadata": {},
   "source": [
    "# Shark Attacks Project"
   ]
  },
  {
   "cell_type": "markdown",
   "metadata": {},
   "source": [
    "### HIPOTESIS"
   ]
  },
  {
   "cell_type": "markdown",
   "metadata": {},
   "source": [
    "RESUMEN DEL ANALISIS"
   ]
  },
  {
   "cell_type": "code",
   "execution_count": 1,
   "metadata": {},
   "outputs": [],
   "source": [
    "import pandas as pd\n",
    "import numpy as np\n",
    "import re\n",
    "import calendar\n",
    "import scr.Fun as f\n",
    "import matplotlib.pyplot as plt"
   ]
  },
  {
   "cell_type": "markdown",
   "metadata": {},
   "source": [
    "- Creación del DataFrame. Es necesario utilizar la codificación como latin1 ya que el archivo contiene caracteres especiales."
   ]
  },
  {
   "cell_type": "code",
   "execution_count": 2,
   "metadata": {},
   "outputs": [],
   "source": [
    "df = pd.read_csv('INPUT/GSAF5.csv', encoding = 'latin1')"
   ]
  },
  {
   "cell_type": "markdown",
   "metadata": {},
   "source": [
    "- Configuración para poder ver todas las filas y columnas para una mejor exploración de los datos que dispongo y pensar cómo puedo limpiarlos."
   ]
  },
  {
   "cell_type": "code",
   "execution_count": 3,
   "metadata": {},
   "outputs": [],
   "source": [
    "pd.set_option('display.max_rows', None)\n",
    "pd.set_option('display.max_columns', None)"
   ]
  },
  {
   "cell_type": "markdown",
   "metadata": {},
   "source": [
    "### PASO 1: Inspección y descarte de datos."
   ]
  },
  {
   "cell_type": "code",
   "execution_count": 4,
   "metadata": {},
   "outputs": [
    {
     "data": {
      "text/plain": [
       "Index(['Case Number', 'Date', 'Year', 'Type', 'Country', 'Area', 'Location',\n",
       "       'Activity', 'Name', 'Sex ', 'Age', 'Injury', 'Fatal (Y/N)', 'Time',\n",
       "       'Species ', 'Investigator or Source', 'pdf', 'href formula', 'href',\n",
       "       'Case Number.1', 'Case Number.2', 'original order', 'Unnamed: 22',\n",
       "       'Unnamed: 23'],\n",
       "      dtype='object')"
      ]
     },
     "execution_count": 4,
     "metadata": {},
     "output_type": "execute_result"
    }
   ],
   "source": [
    "df.columns"
   ]
  },
  {
   "cell_type": "markdown",
   "metadata": {},
   "source": [
    "1. Observo algún error a corregir en el nombre de las columnas por incluir espacios.\n",
    "2. A primera vista, parece que hay columnas con datos repetidos, como 'href formula' y 'href' o 'Case Number' y 'Case Number.1' y 'Case Number.2'.\n",
    "3. Existen columnas cuyo nombre no nos dice mucho, que probablemente no contengan datos relevantes."
   ]
  },
  {
   "cell_type": "markdown",
   "metadata": {},
   "source": [
    "Seguidamente, compruebo la cantidad de datos que contiene el archivo y el porcentaje de datos nulos que hay por columna."
   ]
  },
  {
   "cell_type": "code",
   "execution_count": 5,
   "metadata": {},
   "outputs": [
    {
     "name": "stdout",
     "output_type": "stream",
     "text": [
      "Number of Rows and Columns: (5992, 24)\n",
      "\n",
      "Percentage of nulls per column:\n",
      "\n",
      " Case Number                0.000000\n",
      "Date                       0.000000\n",
      "Year                       0.000000\n",
      "Type                       0.000000\n",
      "Country                    0.717623\n",
      "Area                       6.708945\n",
      "Location                   8.277704\n",
      "Activity                   8.795060\n",
      "Name                       3.337784\n",
      "Sex                        9.462617\n",
      "Age                       44.742991\n",
      "Injury                     0.450601\n",
      "Fatal (Y/N)                0.317089\n",
      "Time                      53.621495\n",
      "Species                   48.965287\n",
      "Investigator or Source     0.250334\n",
      "pdf                        0.000000\n",
      "href formula               0.016689\n",
      "href                       0.050067\n",
      "Case Number.1              0.000000\n",
      "Case Number.2              0.000000\n",
      "original order             0.000000\n",
      "Unnamed: 22               99.983311\n",
      "Unnamed: 23               99.966622\n",
      "dtype: float64\n"
     ]
    }
   ],
   "source": [
    "print('Number of Rows and Columns:', df.shape)\n",
    "\n",
    "print('\\nPercentage of nulls per column:\\n\\n',(df.isnull().sum()/5992)*100)"
   ]
  },
  {
   "cell_type": "markdown",
   "metadata": {},
   "source": [
    "1. Confirmo que las columnas 'Unnamed' están prácticamente vacías, por lo que podemos eliminarlas.\n",
    "2. Las columnas 'Species', 'Time' y 'Age' tienen un alto volumen de celdas vacías, por tanto, dificulta su análisis y no las tendremos en cuenta."
   ]
  },
  {
   "cell_type": "markdown",
   "metadata": {},
   "source": [
    "Ahora comprobamos si las columnas 'Case Number' y 'href' contienen los mismos datos:"
   ]
  },
  {
   "cell_type": "code",
   "execution_count": 6,
   "metadata": {},
   "outputs": [
    {
     "name": "stdout",
     "output_type": "stream",
     "text": [
      "True\n",
      "True\n"
     ]
    }
   ],
   "source": [
    "def check_dupl_caseNumber(col):\n",
    "    index = 0\n",
    "    for value in col:\n",
    "        if value == df['Case Number.1'][index] and value == df['Case Number.2'][index]:\n",
    "            index += 1\n",
    "            return True\n",
    "        else:\n",
    "            index += 1\n",
    "            return False\n",
    "\n",
    "print(check_dupl_caseNumber(df['Case Number']))\n",
    "\n",
    "def check_dupl_href(col):\n",
    "    index = 0\n",
    "    for value in col:\n",
    "        if value == df['href formula'][index]:\n",
    "            index += 1\n",
    "            return True\n",
    "        else:\n",
    "            index += 1\n",
    "            return False\n",
    "\n",
    "print(check_dupl_href(df['href']))"
   ]
  },
  {
   "cell_type": "markdown",
   "metadata": {},
   "source": [
    "Concluyo que las columnas 'Case Number.1' y 'Case Number.2' contienen los mismos datos que la columna 'Case Number', por lo que se puede eliminar dichas dos. \n",
    "Además, la columna 'href' también contiene los mismos datos que 'href formula' e incluso tiene más vacías, por tanto, se puede deshechar."
   ]
  },
  {
   "cell_type": "code",
   "execution_count": 7,
   "metadata": {},
   "outputs": [
    {
     "data": {
      "text/plain": [
       "Index(['Case Number', 'Date', 'Year', 'Type', 'Country', 'Area', 'Location',\n",
       "       'Activity', 'Name', 'Sex ', 'Injury', 'Fatal (Y/N)',\n",
       "       'Investigator or Source', 'pdf', 'href formula', 'original order'],\n",
       "      dtype='object')"
      ]
     },
     "execution_count": 7,
     "metadata": {},
     "output_type": "execute_result"
    }
   ],
   "source": [
    "drop_cols = ['Unnamed: 22', 'Unnamed: 23', 'Case Number.1', 'Case Number.2', 'href']\n",
    "\n",
    "df = df.drop(drop_cols, axis=1)\n",
    "\n",
    "cols_analysis = ['Case Number', 'Date', 'Year', 'Type', 'Country', 'Area', 'Location', 'Activity', 'Name', \n",
    "                 'Sex ', 'Injury', 'Fatal (Y/N)', 'Investigator or Source', 'pdf', 'href formula',\n",
    "                 'original order']\n",
    "\n",
    "df1 = df.loc[:,cols_analysis]\n",
    "\n",
    "df1.columns"
   ]
  },
  {
   "cell_type": "markdown",
   "metadata": {},
   "source": [
    "En este momento, he ido mirando los datos que contiene cada columna para identificar dificultad de limpieza, utilidad y veracidad.\n",
    "\n",
    "- Case Number: contiene el número del caso registrado, que incluye la fecha y alguna letra. La utilidad que le voy a dar es para crear una nueva columna llamada 'Month' y poder sacar el mes en el que se dio el incidente.\n",
    "\n",
    "- Date: contiene la fecha del incidente pero no sigue un formato determinado. Difícil de limpiar y repite datos que tenemos en la columna 'Case Number'. Descarto del análisis.\n",
    "\n",
    "- Year: contiene el año del incidente. Bastante unificado y completo.\n",
    "\n",
    "- Type: especifica si el ataque fue provocado o no. Me parece un dato inconsistente ya que no se en qué se han basado para categorizar como provocación un ataque. Si comparo con las actividades realizadas durante el ataque, el surf se considera tanto en provocado como no provocado, al igual que el nado o la pesca. Descarto del análisis.\n",
    "\n",
    "- Country: especifica el país donde se ha dado el ataque. Contiene pocos datos nulos y parece consistente.\n",
    "\n",
    "- Area: especifica la ciudad/estado en el que ha surgido el ataque. Me basaré en el país del incidente, por tanto, descarto del análisis.\n",
    "\n",
    "- Location: especifica la playa donde se ha dado el ataque. Contiene muy pocos datos agrupados. Me basaré en el país del incidente, por tanto, descarto del análisis.\n",
    "\n",
    "- Activity: especifica la actividad que realizaba la víctima en el momento del ataque. Los datos están muy dispersos y hay que reagruparlos bajo una misma categoría.\n",
    "\n",
    "- Name: se pretende identificar el nombre de la víctima pero la gran mayoría están sin especificar. No nos interesa para el análisis.\n",
    "\n",
    "- Sex: determina el sexo de la víctima. Casi un 10% de los datos son nulos, lo que considero demasiado para tener en cuenta en el análisis.\n",
    "\n",
    "- Injury: especifica en qué parte del cuerpo fue el ataque. Datos muy dispersos que hay que reagrupar bajo una misma categoría.\n",
    "\n",
    "- Fatal: identifica si el ataque fue mortal o tuvo consecuencias graves para la víctima (o eso entiendo yo). Como la interpretación es ambigua y, además, la categoría fatal también aparece en la columna de 'Injury', lo descarto del análisis.\n",
    "\n",
    "- Investigator or Source: especifica la fuente. Está muy atomizado y no necesito esta información para la hipótesis, por tanto, descarto del análisis.\n",
    "\n",
    "- pdf y href formula: uno contiene los enlaces completos al pdf del caso, y el otro contiene solo el nombre del pdf. Al no necesitarlo para el análisis, lo descarto.\n",
    "\n",
    "- Original order: no se a qué hacen referencia los números aportados, por lo que, descarto del análisis."
   ]
  },
  {
   "cell_type": "code",
   "execution_count": 8,
   "metadata": {},
   "outputs": [
    {
     "data": {
      "text/plain": [
       "Index(['Case Number', 'Year', 'Country', 'Activity', 'Injury'], dtype='object')"
      ]
     },
     "execution_count": 8,
     "metadata": {},
     "output_type": "execute_result"
    }
   ],
   "source": [
    "cols_analysis = ['Case Number', 'Year', 'Country', 'Activity', 'Injury']\n",
    "\n",
    "attacks = df.loc[:,cols_analysis]\n",
    "\n",
    "attacks.columns"
   ]
  },
  {
   "cell_type": "markdown",
   "metadata": {},
   "source": [
    "### PASO 2: Limpieza de datos"
   ]
  },
  {
   "cell_type": "markdown",
   "metadata": {},
   "source": [
    "#### COLUMNA MONTH"
   ]
  },
  {
   "cell_type": "markdown",
   "metadata": {},
   "source": [
    "Creo una columna con el mes en el que ha surgido el ataque, en base a la columna 'Case Number'."
   ]
  },
  {
   "cell_type": "code",
   "execution_count": 9,
   "metadata": {},
   "outputs": [],
   "source": [
    "# Extraigo el mes de la columna 'Case Number':\n",
    "\n",
    "attacks['Month'] = attacks['Case Number'].str.extract('(\\.\\d{2}\\.)')\n",
    "\n",
    "# Elimino los dos puntos que se han extraido:\n",
    "\n",
    "attacks['Month'] = attacks['Month'].str.extract('(\\d{2})')\n",
    "\n",
    "# En algunos casos, el 'Case Number' no indica el mes por falta de información. Sustituyo los valores nulos por 0:\n",
    "\n",
    "attacks.Month = attacks.Month.fillna(0).astype('int')\n",
    "\n",
    "# Cambio los valores extraidos por el nombre del mes correspondiente:\n",
    "\n",
    "for x in range(1,13):\n",
    "    \n",
    "    attacks.loc[attacks['Month'] == x, 'Month'] = calendar.month_name[x]\n",
    "    attacks.loc[attacks['Month'] == 30, 'Month'] = 'August'\n",
    "\n",
    "# Los valores nulos sustituidos por 0, los identifico como 'Unknown'. Suponen un 6.4% sobre el total:\n",
    "\n",
    "attacks.loc[attacks['Month'] == 0, 'Month'] = 'Unknown'"
   ]
  },
  {
   "cell_type": "markdown",
   "metadata": {},
   "source": [
    "Compruebo el peso que tiene cada mes sobre el total de registros para comprobar que los nulos no suponen un porcentaje muy elevado. En este momento supone un 8.7%, sin embargo, a lo largo del análisis este porcentaje bajará hasta el 6.4% debido a la omisión de algunos de los datos que considero a descartar."
   ]
  },
  {
   "cell_type": "code",
   "execution_count": 10,
   "metadata": {},
   "outputs": [
    {
     "name": "stdout",
     "output_type": "stream",
     "text": [
      "(5992, 6)\n",
      "July         10.564085\n",
      "August        9.679573\n",
      "September     8.744993\n",
      "Unknown       8.728304\n",
      "January       8.344459\n",
      "June          7.910547\n",
      "December      7.059413\n",
      "April         6.842457\n",
      "October       6.792390\n",
      "March         6.642190\n",
      "November      6.558745\n",
      "May           6.141522\n",
      "February      5.991322\n",
      "Name: Month, dtype: float64\n"
     ]
    }
   ],
   "source": [
    "print(attacks.shape)\n",
    "\n",
    "print((attacks.Month.value_counts()/5992)*100)"
   ]
  },
  {
   "cell_type": "code",
   "execution_count": 11,
   "metadata": {},
   "outputs": [
    {
     "data": {
      "text/html": [
       "<div>\n",
       "<style scoped>\n",
       "    .dataframe tbody tr th:only-of-type {\n",
       "        vertical-align: middle;\n",
       "    }\n",
       "\n",
       "    .dataframe tbody tr th {\n",
       "        vertical-align: top;\n",
       "    }\n",
       "\n",
       "    .dataframe thead th {\n",
       "        text-align: right;\n",
       "    }\n",
       "</style>\n",
       "<table border=\"1\" class=\"dataframe\">\n",
       "  <thead>\n",
       "    <tr style=\"text-align: right;\">\n",
       "      <th></th>\n",
       "      <th>Case Number</th>\n",
       "      <th>Month</th>\n",
       "      <th>Year</th>\n",
       "      <th>Country</th>\n",
       "      <th>Activity</th>\n",
       "      <th>Injury</th>\n",
       "    </tr>\n",
       "  </thead>\n",
       "  <tbody>\n",
       "    <tr>\n",
       "      <th>0</th>\n",
       "      <td>2016.09.18.c</td>\n",
       "      <td>September</td>\n",
       "      <td>2016</td>\n",
       "      <td>USA</td>\n",
       "      <td>Surfing</td>\n",
       "      <td>Minor injury to thigh</td>\n",
       "    </tr>\n",
       "    <tr>\n",
       "      <th>1</th>\n",
       "      <td>2016.09.18.b</td>\n",
       "      <td>September</td>\n",
       "      <td>2016</td>\n",
       "      <td>USA</td>\n",
       "      <td>Surfing</td>\n",
       "      <td>Lacerations to hands</td>\n",
       "    </tr>\n",
       "    <tr>\n",
       "      <th>2</th>\n",
       "      <td>2016.09.18.a</td>\n",
       "      <td>September</td>\n",
       "      <td>2016</td>\n",
       "      <td>USA</td>\n",
       "      <td>Surfing</td>\n",
       "      <td>Lacerations to lower leg</td>\n",
       "    </tr>\n",
       "    <tr>\n",
       "      <th>3</th>\n",
       "      <td>2016.09.17</td>\n",
       "      <td>September</td>\n",
       "      <td>2016</td>\n",
       "      <td>AUSTRALIA</td>\n",
       "      <td>Surfing</td>\n",
       "      <td>Struck by fin on chest &amp; leg</td>\n",
       "    </tr>\n",
       "    <tr>\n",
       "      <th>4</th>\n",
       "      <td>2016.09.15</td>\n",
       "      <td>September</td>\n",
       "      <td>2016</td>\n",
       "      <td>AUSTRALIA</td>\n",
       "      <td>Surfing</td>\n",
       "      <td>No injury: Knocked off board by shark</td>\n",
       "    </tr>\n",
       "  </tbody>\n",
       "</table>\n",
       "</div>"
      ],
      "text/plain": [
       "    Case Number      Month  Year    Country Activity  \\\n",
       "0  2016.09.18.c  September  2016        USA  Surfing   \n",
       "1  2016.09.18.b  September  2016        USA  Surfing   \n",
       "2  2016.09.18.a  September  2016        USA  Surfing   \n",
       "3    2016.09.17  September  2016  AUSTRALIA  Surfing   \n",
       "4    2016.09.15  September  2016  AUSTRALIA  Surfing   \n",
       "\n",
       "                                  Injury  \n",
       "0                  Minor injury to thigh  \n",
       "1                   Lacerations to hands  \n",
       "2               Lacerations to lower leg  \n",
       "3           Struck by fin on chest & leg  \n",
       "4  No injury: Knocked off board by shark  "
      ]
     },
     "execution_count": 11,
     "metadata": {},
     "output_type": "execute_result"
    }
   ],
   "source": [
    "order = ['Case Number', 'Month', 'Year', 'Country', 'Activity', 'Injury']\n",
    "\n",
    "attacks = attacks.loc[:,order]\n",
    "\n",
    "attacks.head()"
   ]
  },
  {
   "cell_type": "markdown",
   "metadata": {},
   "source": [
    "#### COLUMNA YEAR"
   ]
  },
  {
   "cell_type": "markdown",
   "metadata": {},
   "source": [
    "Elimino de la tabla valores anteriores al año 1800, ya que debido a su antiguedad son poco consistentes, ofrecían poca información en las columnas restantes, al igual que los años con valor 0. Con ello también eliminamos datos errónes que teníamos al final de la serie."
   ]
  },
  {
   "cell_type": "code",
   "execution_count": 12,
   "metadata": {
    "scrolled": true
   },
   "outputs": [
    {
     "data": {
      "text/plain": [
       "array([2016, 2015, 2014, 2013, 2012, 2011, 2010, 2009, 2008, 2007, 2006,\n",
       "       2005, 2004, 2003, 2002, 2001, 2000, 1999, 1998, 1997, 1996, 1995,\n",
       "       1984, 1994, 1993, 1992, 1991, 1990, 1989, 1969, 1988, 1987, 1986,\n",
       "       1985, 1983, 1982, 1981, 1980, 1979, 1978, 1977, 1976, 1975, 1974,\n",
       "       1973, 1972, 1971, 1970, 1968, 1967, 1966, 1965, 1964, 1963, 1962,\n",
       "       1961, 1960, 1959, 1958, 1957, 1956, 1955, 1954, 1953, 1952, 1951,\n",
       "       1950, 1949, 1948, 1848, 1947, 1946, 1945, 1944, 1943, 1942, 1941,\n",
       "       1940, 1939, 1938, 1937, 1936, 1935, 1934, 1933, 1932, 1931, 1930,\n",
       "       1929, 1928, 1927, 1926, 1925, 1924, 1923, 1922, 1921, 1920, 1919,\n",
       "       1918, 1917, 1916, 1915, 1914, 1913, 1912, 1911, 1910, 1909, 1908,\n",
       "       1907, 1906, 1905, 1904, 1903, 1902, 1901, 1900, 1899, 1898, 1897,\n",
       "       1896, 1895, 1894, 1893, 1892, 1891, 1890, 1889, 1888, 1887, 1886,\n",
       "       1885, 1884, 1883, 1882, 1881, 1880, 1879, 1878, 1877, 1876, 1875,\n",
       "       1874, 1873, 1872, 1871, 1870, 1869, 1868, 1867, 1866, 1865, 1864,\n",
       "       1863, 1862, 1861, 1860, 1859, 1858, 1856, 1855, 1854, 1853, 1852,\n",
       "       1851, 1850, 1849, 1847, 1846, 1845, 1844, 1842, 1841, 1840, 1839,\n",
       "       1837, 1836, 1835, 1834, 1832, 1831, 1830, 1829, 1828, 1827, 1826,\n",
       "       1825, 1822, 1819, 1818, 1817, 1816, 1812, 1811, 1807, 1805, 1804,\n",
       "       1803, 1800, 1791, 1788, 1787, 1785, 1779, 1776, 1771, 1767, 1764,\n",
       "       1758, 1749, 1755, 1748, 1742, 1738, 1733, 1721, 1703, 1700, 1642,\n",
       "       1638, 1637, 1617, 1595, 1580, 1555, 1554, 1543,  500,   77,    5,\n",
       "          0])"
      ]
     },
     "metadata": {},
     "output_type": "display_data"
    }
   ],
   "source": [
    "# Compruebo los valores únicos de la columna:\n",
    "\n",
    "display(attacks[\"Year\"].unique())\n",
    "\n",
    "# Decido no tener en cuenta los datos anteriores al año 1800 por prudencia.\n",
    "\n",
    "attacks = attacks[attacks[\"Year\"] >= 1800]"
   ]
  },
  {
   "cell_type": "markdown",
   "metadata": {},
   "source": [
    "#### COLUMNA COUNTRY"
   ]
  },
  {
   "cell_type": "markdown",
   "metadata": {},
   "source": [
    "Adapto los nombres a un formato correcto y, tanto los nulos como los que no aparecen más de 10 veces en el DataFrame, los categorizo como 'Otros' para reducir la atomización de datos."
   ]
  },
  {
   "cell_type": "code",
   "execution_count": 13,
   "metadata": {},
   "outputs": [],
   "source": [
    "# Hay 35 celdas vacías que categorizo como 'Otros':\n",
    "\n",
    "attacks.Country = attacks.Country.fillna('OTHER')\n",
    "\n",
    "# Adapto los nombres a mayúsculas y quito los espacios que contengan:\n",
    "\n",
    "attacks['Country'] = attacks['Country'].str.upper()\n",
    "\n",
    "def first_space(serie):\n",
    "    return serie.replace(\"^\\s\", \"\")\n",
    "\n",
    "attacks['Country'] = first_space(attacks['Country'].str)\n",
    "\n",
    "# Mantengo los nombres de los países que se repiten más de 10 veces:\n",
    "\n",
    "attacks_country = attacks['Country'].value_counts()\n",
    "attacks_country = attacks_country[attacks_country >= 10]\n",
    "\n",
    "# El resto, los agrupo como 'Otros', lo que supone un 7,6% del total:\n",
    "\n",
    "ind = attacks_country.index.tolist()\n",
    "\n",
    "countries = []\n",
    "\n",
    "for i in range(len(attacks.index)):\n",
    "    if attacks.loc[i,'Country'] in ind:\n",
    "        countries.append(attacks.loc[i,'Country'])\n",
    "    else:\n",
    "        countries.append('OTHER')\n",
    "        \n",
    "attacks[\"Country\"] = countries"
   ]
  },
  {
   "cell_type": "code",
   "execution_count": 14,
   "metadata": {},
   "outputs": [
    {
     "name": "stdout",
     "output_type": "stream",
     "text": [
      "(5833, 6)\n",
      "USA                     35.933482\n",
      "AUSTRALIA               21.601234\n",
      "SOUTH AFRICA             9.549117\n",
      "OTHER                    7.663295\n",
      "PAPUA NEW GUINEA         2.211555\n",
      "NEW ZEALAND              2.125836\n",
      "BRAZIL                   1.748671\n",
      "BAHAMAS                  1.628664\n",
      "MEXICO                   1.371507\n",
      "ITALY                    1.148637\n",
      "FIJI                     1.062918\n",
      "PHILIPPINES              1.028630\n",
      "REUNION                  0.942911\n",
      "NEW CALEDONIA            0.874336\n",
      "MOZAMBIQUE               0.720041\n",
      "CUBA                     0.685753\n",
      "SPAIN                    0.651466\n",
      "EGYPT                    0.617178\n",
      "CROATIA                  0.582890\n",
      "INDIA                    0.548603\n",
      "JAPAN                    0.548603\n",
      "PANAMA                   0.497171\n",
      "SOLOMON ISLANDS          0.462884\n",
      "IRAN                     0.428596\n",
      "HONG KONG                0.411452\n",
      "JAMAICA                  0.394308\n",
      "FRENCH POLYNESIA         0.360021\n",
      "GREECE                   0.325733\n",
      "INDONESIA                0.325733\n",
      "ENGLAND                  0.308589\n",
      "TONGA                    0.308589\n",
      "PACIFIC OCEAN            0.274301\n",
      "ATLANTIC OCEAN           0.274301\n",
      "BERMUDA                  0.240014\n",
      "COSTA RICA               0.205726\n",
      "VANUATU                  0.205726\n",
      "SRI LANKA                0.205726\n",
      "SOUTH ATLANTIC OCEAN     0.205726\n",
      "VIETNAM                  0.205726\n",
      "TURKEY                   0.205726\n",
      "MARSHALL ISLANDS         0.205726\n",
      "SENEGAL                  0.188582\n",
      "NEW GUINEA               0.171438\n",
      "CANADA                   0.171438\n",
      "UNITED KINGDOM           0.171438\n",
      "Name: Country, dtype: float64\n"
     ]
    }
   ],
   "source": [
    "print(attacks.shape)\n",
    "\n",
    "print((attacks.Country.value_counts()/5833)*100)"
   ]
  },
  {
   "cell_type": "markdown",
   "metadata": {},
   "source": [
    "#### COLUMNA ACTIVITY"
   ]
  },
  {
   "cell_type": "markdown",
   "metadata": {},
   "source": [
    "Esta columna, al ser descriptiva, contiene muchos datos que describen una misma actividad, por tanto, es necesario unificar bajo una misma categoría. Llegado a un punto donde las datos se dispersan mucho, los englobo bajo un mismo concepto de 'Otros', que suponen solo el 6.44% total de datos saneados."
   ]
  },
  {
   "cell_type": "code",
   "execution_count": 15,
   "metadata": {},
   "outputs": [],
   "source": [
    "# Hay 497 celdas vacías que categorizo como 'Desconocido':\n",
    "\n",
    "attacks.Activity = attacks.Activity.fillna('Unknown')\n",
    "\n",
    "# Agrupo actividades afines bajo un mismo nombre:\n",
    "\n",
    "attacks.loc[attacks['Activity'].str.contains('surf', case=False), 'Activity'] = 'Surfing'\n",
    "\n",
    "attacks.loc[attacks['Activity'].str.contains('swim', case=False)|\n",
    "            attacks['Activity'].str.contains('bath', case=False)|\n",
    "            attacks['Activity'].str.contains('float', case=False)|\n",
    "            attacks['Activity'].str.contains('water', case=False)|\n",
    "            attacks['Activity'].str.contains('splash', case=False), 'Activity'] = 'Swimming'\n",
    "\n",
    "\n",
    "attacks.loc[attacks['Activity'].str.contains('fish', case=False)|\n",
    "            attacks['Activity'].str.contains('crab', case=False)|\n",
    "            attacks['Activity'].str.contains('clam', case=False)|\n",
    "            attacks['Activity'].str.contains('kill', case=False)|\n",
    "            attacks['Activity'].str.contains('hunt', case=False)|\n",
    "            attacks['Activity'].str.contains('catch', case=False)|\n",
    "            attacks['Activity'].str.contains('shoot', case=False), 'Activity'] = 'Fishing'\n",
    "\n",
    "attacks.loc[attacks['Activity'].str.contains('div', case=False)|\n",
    "            attacks['Activity'].str.contains('snork', case=False), 'Activity'] = 'Diving'\n",
    "\n",
    "attacks.loc[attacks['Activity'].str.contains('wad', case=False)|\n",
    "            attacks['Activity'].str.contains('stand', case=False)|\n",
    "            attacks['Activity'].str.contains('walk', case=False)|\n",
    "            attacks['Activity'].str.contains('tread', case=False)|\n",
    "            attacks['Activity'].str.contains('wash', case=False)|\n",
    "            attacks['Activity'].str.contains('sit', case=False)|\n",
    "            attacks['Activity'].str.contains('play', case=False), 'Activity'] = 'Shore'\n",
    "\n",
    "attacks.loc[attacks['Activity'].str.contains('kayak', case=False)|\n",
    "            attacks['Activity'].str.contains('board', case=False)|\n",
    "            attacks['Activity'].str.contains('row', case=False)|\n",
    "            attacks['Activity'].str.contains('canoe', case=False)|\n",
    "            attacks['Activity'].str.contains('sail', case=False)|\n",
    "            attacks['Activity'].str.contains('boat', case=False)|\n",
    "            attacks['Activity'].str.contains('paddl', case=False)|\n",
    "            attacks['Activity'].str.contains('fell', case=False), 'Activity'] = 'Water sports'\n",
    "\n",
    "# Mantengo las actividades que se repitan más de 10 veces:\n",
    "\n",
    "attacks_activities = attacks['Activity'].value_counts()\n",
    "attacks_activities = attacks_activities[attacks_activities >= 10]\n",
    "\n",
    "# El resto, los agrupo como Otros, suponen un 6.44% del total:\n",
    "\n",
    "ind = attacks_activities.index.tolist()\n",
    "\n",
    "activities = []\n",
    "\n",
    "for i in range(len(attacks.index)):\n",
    "    if attacks.loc[i,'Activity'] in ind:\n",
    "        activities.append(attacks.loc[i,'Activity'])\n",
    "    else:\n",
    "        activities.append('OTHER')\n",
    "\n",
    "attacks[\"Activity\"] = activities"
   ]
  },
  {
   "cell_type": "code",
   "execution_count": 16,
   "metadata": {},
   "outputs": [
    {
     "name": "stdout",
     "output_type": "stream",
     "text": [
      "(5833, 6)\n",
      "Swimming        24.224241\n",
      "Surfing         20.264015\n",
      "Fishing         19.183953\n",
      "Diving           9.051946\n",
      "Unknown          8.571918\n",
      "Water sports     6.617521\n",
      "OTHER            6.566089\n",
      "Shore            5.520315\n",
      "Name: Activity, dtype: float64\n"
     ]
    }
   ],
   "source": [
    "print(attacks.shape)\n",
    "\n",
    "print((attacks.Activity.value_counts()/5833)*100)"
   ]
  },
  {
   "cell_type": "markdown",
   "metadata": {},
   "source": [
    "#### COLUMNA INJURY"
   ]
  },
  {
   "cell_type": "markdown",
   "metadata": {},
   "source": [
    "Mismo caso que el anterior, con la diferencia de que agrupo según la parte del cuerpo que haya sido afectada por el ataque del tiburón. Llegado a un punto donde las datos se dispersan mucho, los englobo bajo un mismo concepto de 'Otros', que suponen solo el 6.5% del total de datos saneados."
   ]
  },
  {
   "cell_type": "code",
   "execution_count": 17,
   "metadata": {},
   "outputs": [],
   "source": [
    "# Hay 20 celdas vacías que categorizo como 'Desconocido':\n",
    "\n",
    "attacks.Injury = attacks.Injury.fillna('Unknown')\n",
    "\n",
    "# Agrupo los daños sufridos según la parte del cuerpo afectada:\n",
    "\n",
    "attacks.loc[attacks['Injury'].str.contains('foot', case=False)|\n",
    "            attacks['Injury'].str.contains('leg', case=False)|\n",
    "            attacks['Injury'].str.contains('thigh', case=False)|\n",
    "            attacks['Injury'].str.contains('calf', case=False)|\n",
    "            attacks['Injury'].str.contains('ankle', case=False)|\n",
    "            attacks['Injury'].str.contains('heel', case=False)|\n",
    "            attacks['Injury'].str.contains('toe', case=False)|\n",
    "            attacks['Injury'].str.contains('shin', case=False)|\n",
    "            attacks['Injury'].str.contains('feet', case=False)|\n",
    "            attacks['Injury'].str.contains('knee', case=False), 'Injury'] = 'Leg'\n",
    "\n",
    "attacks.loc[attacks['Injury'].str.contains('hand', case=False)|\n",
    "            attacks['Injury'].str.contains('arm', case=False)|\n",
    "            attacks['Injury'].str.contains('finger', case=False)|\n",
    "            attacks['Injury'].str.contains('shoul', case=False)|\n",
    "            attacks['Injury'].str.contains('wrist', case=False)|\n",
    "            attacks['Injury'].str.contains('elbo', case=False), 'Injury'] = 'Arm'\n",
    "\n",
    "attacks.loc[attacks['Injury'].str.contains('torso', case=False)|\n",
    "            attacks['Injury'].str.contains('hip', case=False)|\n",
    "            attacks['Injury'].str.contains('chest', case=False)|\n",
    "            attacks['Injury'].str.contains('butt', case=False)|\n",
    "            attacks['Injury'].str.contains('back', case=False)|\n",
    "            attacks['Injury'].str.contains('abdom', case=False), 'Injury'] = 'Trunk'\n",
    "\n",
    "attacks.loc[attacks['Injury'].str.contains('no injury', case=False)|\n",
    "            attacks['Injury'].str.contains('minor', case=False)|\n",
    "            attacks['Injury'].str.contains('fin', case=False)|\n",
    "            attacks['Injury'].str.contains('lacer', case=False), 'Injury'] = 'No injury'\n",
    "\n",
    "attacks.loc[attacks['Injury'].str.contains('fatal', case=False)|\n",
    "            attacks['Injury'].str.contains('drow', case=False), 'Injury'] = 'FATAL'\n",
    "\n",
    "attacks.loc[attacks['Injury'].str.contains('survi', case=False)|\n",
    "            attacks['Injury'].str.contains('detail', case=False), 'Injury'] = 'Unknown'\n",
    "\n",
    "# Mantengo los ataques que se repiten más de 10 veces:\n",
    "\n",
    "attacks_injuries = attacks['Injury'].value_counts()\n",
    "\n",
    "attacks_injuries = attacks_injuries[attacks_injuries >= 10]\n",
    "\n",
    "# El resto, los agrupo como Otros, suponen un 6.5% del total:\n",
    "\n",
    "ind = attacks_injuries.index.tolist()\n",
    "\n",
    "injuries = []\n",
    "\n",
    "for i in range(len(attacks.index)):\n",
    "    if attacks.loc[i,'Injury'] in ind:\n",
    "        injuries.append(attacks.loc[i,'Injury'])\n",
    "    else:\n",
    "        injuries.append('OTHER')\n",
    "\n",
    "attacks[\"Injury\"] = injuries"
   ]
  },
  {
   "cell_type": "code",
   "execution_count": 18,
   "metadata": {},
   "outputs": [
    {
     "name": "stdout",
     "output_type": "stream",
     "text": [
      "(5833, 6)\n",
      "Leg          41.625236\n",
      "FATAL        16.955255\n",
      "Arm          14.726556\n",
      "No injury    14.023658\n",
      "OTHER         6.514658\n",
      "Unknown       3.497343\n",
      "Trunk         2.657295\n",
      "Name: Injury, dtype: float64\n"
     ]
    }
   ],
   "source": [
    "print(attacks.shape)\n",
    "\n",
    "print((attacks.Injury.value_counts()/5833)*100)"
   ]
  },
  {
   "cell_type": "markdown",
   "metadata": {},
   "source": [
    "### PASO 3: Análisis"
   ]
  },
  {
   "cell_type": "code",
   "execution_count": 19,
   "metadata": {},
   "outputs": [
    {
     "data": {
      "text/html": [
       "<div>\n",
       "<style scoped>\n",
       "    .dataframe tbody tr th:only-of-type {\n",
       "        vertical-align: middle;\n",
       "    }\n",
       "\n",
       "    .dataframe tbody tr th {\n",
       "        vertical-align: top;\n",
       "    }\n",
       "\n",
       "    .dataframe thead th {\n",
       "        text-align: right;\n",
       "    }\n",
       "</style>\n",
       "<table border=\"1\" class=\"dataframe\">\n",
       "  <thead>\n",
       "    <tr style=\"text-align: right;\">\n",
       "      <th></th>\n",
       "      <th>Case Number</th>\n",
       "      <th>Month</th>\n",
       "      <th>Year</th>\n",
       "      <th>Country</th>\n",
       "      <th>Activity</th>\n",
       "      <th>Injury</th>\n",
       "    </tr>\n",
       "  </thead>\n",
       "  <tbody>\n",
       "    <tr>\n",
       "      <th>0</th>\n",
       "      <td>2016.09.18.c</td>\n",
       "      <td>September</td>\n",
       "      <td>2016</td>\n",
       "      <td>USA</td>\n",
       "      <td>Surfing</td>\n",
       "      <td>Leg</td>\n",
       "    </tr>\n",
       "    <tr>\n",
       "      <th>1</th>\n",
       "      <td>2016.09.18.b</td>\n",
       "      <td>September</td>\n",
       "      <td>2016</td>\n",
       "      <td>USA</td>\n",
       "      <td>Surfing</td>\n",
       "      <td>Arm</td>\n",
       "    </tr>\n",
       "    <tr>\n",
       "      <th>2</th>\n",
       "      <td>2016.09.18.a</td>\n",
       "      <td>September</td>\n",
       "      <td>2016</td>\n",
       "      <td>USA</td>\n",
       "      <td>Surfing</td>\n",
       "      <td>Leg</td>\n",
       "    </tr>\n",
       "    <tr>\n",
       "      <th>3</th>\n",
       "      <td>2016.09.17</td>\n",
       "      <td>September</td>\n",
       "      <td>2016</td>\n",
       "      <td>AUSTRALIA</td>\n",
       "      <td>Surfing</td>\n",
       "      <td>Leg</td>\n",
       "    </tr>\n",
       "    <tr>\n",
       "      <th>4</th>\n",
       "      <td>2016.09.15</td>\n",
       "      <td>September</td>\n",
       "      <td>2016</td>\n",
       "      <td>AUSTRALIA</td>\n",
       "      <td>Surfing</td>\n",
       "      <td>No injury</td>\n",
       "    </tr>\n",
       "  </tbody>\n",
       "</table>\n",
       "</div>"
      ],
      "text/plain": [
       "    Case Number      Month  Year    Country Activity     Injury\n",
       "0  2016.09.18.c  September  2016        USA  Surfing        Leg\n",
       "1  2016.09.18.b  September  2016        USA  Surfing        Arm\n",
       "2  2016.09.18.a  September  2016        USA  Surfing        Leg\n",
       "3    2016.09.17  September  2016  AUSTRALIA  Surfing        Leg\n",
       "4    2016.09.15  September  2016  AUSTRALIA  Surfing  No injury"
      ]
     },
     "execution_count": 19,
     "metadata": {},
     "output_type": "execute_result"
    }
   ],
   "source": [
    "attacks.head()"
   ]
  },
  {
   "cell_type": "markdown",
   "metadata": {},
   "source": [
    "nº de ataques por rango de año."
   ]
  },
  {
   "cell_type": "code",
   "execution_count": null,
   "metadata": {},
   "outputs": [],
   "source": []
  },
  {
   "cell_type": "markdown",
   "metadata": {},
   "source": [
    "En la siguiente gráfico podemos ver el registro del número de ataques de tiburón que se han dado según el mes del año. Como podemos observar, la mayor parte de los casos se dan en los meses de julio, agosto y septiembre, aunque no hay una clara evidencia de ser los meses más representativos. PUEDE SER POR LAS DIFERENTES EPOCAS DEL AÑO SEGUN EL CONTINENTE."
   ]
  },
  {
   "cell_type": "code",
   "execution_count": 20,
   "metadata": {},
   "outputs": [
    {
     "data": {
      "text/plain": [
       "Text(0.5, 1.0, 'Historical Shark Attacks by Month')"
      ]
     },
     "execution_count": 20,
     "metadata": {},
     "output_type": "execute_result"
    },
    {
     "data": {
      "image/png": "[encoded data removed]",
      "text/plain": [
       "<Figure size 432x288 with 1 Axes>"
      ]
     },
     "metadata": {
      "needs_background": "light"
     },
     "output_type": "display_data"
    }
   ],
   "source": [
    "attacks.groupby('Month').agg({'Year':'count'}).plot.bar()\n",
    "\n",
    "# AVERIGUAR COMO PUEDO ORDENAR POR MES SEGUN CALENDARIO, NO ALFABETICAMENTE.\n",
    "\n",
    "plt.title('Historical Shark Attacks by Month')"
   ]
  },
  {
   "cell_type": "markdown",
   "metadata": {},
   "source": [
    "La gran mayoría de los ataques de tiburón surgen en USA y Australia."
   ]
  },
  {
   "cell_type": "code",
   "execution_count": 21,
   "metadata": {},
   "outputs": [
    {
     "data": {
      "text/plain": [
       "Text(0.5, 1.0, 'Historical Shark Attacks by Country')"
      ]
     },
     "execution_count": 21,
     "metadata": {},
     "output_type": "execute_result"
    },
    {
     "data": {
      "image/png": "[encoded data removed]",
      "text/plain": [
       "<Figure size 1080x360 with 1 Axes>"
      ]
     },
     "metadata": {
      "needs_background": "light"
     },
     "output_type": "display_data"
    }
   ],
   "source": [
    "attacks.groupby('Country').Year.count().sort_values(ascending=False).plot.bar(figsize=(15,5))\n",
    "\n",
    "plt.title('Historical Shark Attacks by Country')"
   ]
  },
  {
   "cell_type": "markdown",
   "metadata": {},
   "source": [
    "La razón principal del ataque de tiburón en USA es el nado y el surf, seguido de la pesca."
   ]
  },
  {
   "cell_type": "code",
   "execution_count": 22,
   "metadata": {},
   "outputs": [
    {
     "data": {
      "text/plain": [
       "<matplotlib.axes._subplots.AxesSubplot at 0x7f5f2ab264a8>"
      ]
     },
     "metadata": {},
     "output_type": "display_data"
    },
    {
     "data": {
      "image/png": "[encoded data removed]",
      "text/plain": [
       "<Figure size 360x360 with 1 Axes>"
      ]
     },
     "metadata": {},
     "output_type": "display_data"
    }
   ],
   "source": [
    "def pie_country_act(country):\n",
    "    filt = attacks[attacks['Country'] == country]\n",
    "    activ = filt.groupby('Activity').Activity.count().sort_values(ascending=False)\n",
    "    plt.title(f'Reasons of Shark Attacks in {country}')\n",
    "    return activ.plot.pie(figsize=(5,5), autopct='%1.1f%%')\n",
    "\n",
    "display(pie_country_act('USA'))"
   ]
  },
  {
   "cell_type": "markdown",
   "metadata": {},
   "source": [
    "El ataque de tiburón en USA es principalmente a las extremidades, sobre todo en piernas. Siendo la causa principal el nado y el surf, son las partes más vulnerables a un ataque."
   ]
  },
  {
   "cell_type": "code",
   "execution_count": 23,
   "metadata": {},
   "outputs": [
    {
     "data": {
      "text/plain": [
       "<matplotlib.axes._subplots.AxesSubplot at 0x7f5f2a164c18>"
      ]
     },
     "metadata": {},
     "output_type": "display_data"
    },
    {
     "data": {
      "image/png": "[encoded data removed]",
      "text/plain": [
       "<Figure size 360x360 with 1 Axes>"
      ]
     },
     "metadata": {},
     "output_type": "display_data"
    }
   ],
   "source": [
    "def pie_country_inj(country):\n",
    "    filt = attacks[attacks['Country'] == country]\n",
    "    activ = filt.groupby('Injury').Injury.count().sort_values(ascending=False)\n",
    "    plt.title(f'Most Common Injuries of Shark Attacks in {country}')\n",
    "    return activ.plot.pie(figsize=(5,5), autopct='%1.1f%%')\n",
    "\n",
    "display(pie_country_inj('USA'))"
   ]
  },
  {
   "cell_type": "code",
   "execution_count": 24,
   "metadata": {},
   "outputs": [
    {
     "data": {
      "text/plain": [
       "<matplotlib.axes._subplots.AxesSubplot at 0x7f5f2a287da0>"
      ]
     },
     "metadata": {},
     "output_type": "display_data"
    },
    {
     "data": {
      "image/png": "[encoded data removed]",
      "text/plain": [
       "<Figure size 360x360 with 1 Axes>"
      ]
     },
     "metadata": {},
     "output_type": "display_data"
    }
   ],
   "source": [
    "def pie_country_act(country):\n",
    "    filt = attacks[attacks['Country'] == country]\n",
    "    activ = filt.groupby('Activity').Activity.count().sort_values(ascending=False)\n",
    "    plt.title(f'Reasons of Shark Attacks in {country}')\n",
    "    return activ.plot.pie(figsize=(5,5), autopct='%1.1f%%')\n",
    "\n",
    "display(pie_country_act('AUSTRALIA'))"
   ]
  },
  {
   "cell_type": "code",
   "execution_count": 25,
   "metadata": {},
   "outputs": [
    {
     "data": {
      "text/plain": [
       "<matplotlib.axes._subplots.AxesSubplot at 0x7f5f2a1ff320>"
      ]
     },
     "metadata": {},
     "output_type": "display_data"
    },
    {
     "data": {
      "image/png": "[encoded data removed]",
      "text/plain": [
       "<Figure size 360x360 with 1 Axes>"
      ]
     },
     "metadata": {},
     "output_type": "display_data"
    }
   ],
   "source": [
    "def pie_country_inj(country):\n",
    "    filt = attacks[attacks['Country'] == country]\n",
    "    activ = filt.groupby('Injury').Injury.count().sort_values(ascending=False)\n",
    "    plt.title(f'Most Common Injury of Shark Attacks in {country}')\n",
    "    return activ.plot.pie(figsize=(5,5), autopct='%1.1f%%')\n",
    "\n",
    "display(pie_country_inj('AUSTRALIA'))"
   ]
  }
 ],
 "metadata": {
  "kernelspec": {
   "display_name": "Python 3",
   "language": "python",
   "name": "python3"
  },
  "language_info": {
   "codemirror_mode": {
    "name": "ipython",
    "version": 3
   },
   "file_extension": ".py",
   "mimetype": "text/x-python",
   "name": "python",
   "nbconvert_exporter": "python",
   "pygments_lexer": "ipython3",
   "version": "3.6.9"
  }
 },
 "nbformat": 4,
 "nbformat_minor": 2
}
